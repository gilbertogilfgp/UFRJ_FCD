{
 "cells": [
  {
   "cell_type": "markdown",
   "metadata": {
    "id": "WJEBJ372kJml"
   },
   "source": [
    "![PPGI_UFRJ](https://github.com/zavaleta/Fundamentos_DS/blob/main/imagens/ppgi-ufrj.png?raw=1)\n",
    "# Fundamentos de Ciência de Dados"
   ]
  },
  {
   "cell_type": "markdown",
   "metadata": {},
   "source": [
    "---\n",
    "[![DOI](https://zenodo.org/badge/335308405.svg)](https://zenodo.org/badge/latestdoi/335308405)"
   ]
  },
  {
   "cell_type": "markdown",
   "metadata": {},
   "source": [
    "---\n",
    "# PPGI/UFRJ 2020.3\n",
    "## Prof Sergio Serra e Jorge Zavaleta"
   ]
  },
  {
   "cell_type": "markdown",
   "metadata": {
    "id": "v1jqACqhkJmr"
   },
   "source": [
    "---\n",
    "# Módulo 5 - FAIR Data Science"
   ]
  },
  {
   "cell_type": "markdown",
   "metadata": {
    "id": "4S4UUXzgkJms"
   },
   "source": [
    "## Introdução ao FAIR"
   ]
  },
  {
   "cell_type": "markdown",
   "metadata": {
    "id": "vOZRrfnC58NS"
   },
   "source": [
    "> Instalando a library Nanopub"
   ]
  },
  {
   "cell_type": "code",
   "execution_count": null,
   "metadata": {
    "colab": {
     "base_uri": "https://localhost:8080/"
    },
    "id": "HFmNOc595dfm",
    "outputId": "58b41024-acc2-485b-df58-553d6b596694"
   },
   "outputs": [],
   "source": [
    "#!pip install nanopub"
   ]
  },
  {
   "cell_type": "markdown",
   "metadata": {
    "id": "BgYqx5G_6C02"
   },
   "source": [
    "Configurando o  Setup NanoPub Profile. Requer ORCID\n"
   ]
  },
  {
   "cell_type": "code",
   "execution_count": null,
   "metadata": {
    "colab": {
     "base_uri": "https://localhost:8080/"
    },
    "id": "mhNzkjOi0fGJ",
    "outputId": "fbcd0baf-df74-41eb-be21-caabe8cae023"
   },
   "outputs": [],
   "source": [
    "#!setup_nanopub_profile\n",
    "#setup_nanopub_profile"
   ]
  },
  {
   "cell_type": "markdown",
   "metadata": {
    "id": "IY-Eq1oa6aDq"
   },
   "source": [
    "Importando Libraries"
   ]
  },
  {
   "cell_type": "code",
   "execution_count": null,
   "metadata": {
    "id": "Gg8CG5F-6ZCf"
   },
   "outputs": [],
   "source": [
    "from nanopub import Publication, NanopubClient\n",
    "from rdflib import Graph, URIRef, RDF, FOAF"
   ]
  },
  {
   "cell_type": "markdown",
   "metadata": {
    "id": "jIQsZvoS6eY5"
   },
   "source": [
    "Criação de um cliente para a NanoPublicação"
   ]
  },
  {
   "cell_type": "code",
   "execution_count": null,
   "metadata": {
    "id": "Jsi6kHXe6doH"
   },
   "outputs": [],
   "source": [
    "# Create the client, that allows searching, fetching and publishing nanopubs\n",
    "client = NanopubClient()"
   ]
  },
  {
   "cell_type": "markdown",
   "metadata": {
    "id": "PVV5yyzL6mRr"
   },
   "source": [
    "Um exemplo de criação (simpificada) de Nanopublicação"
   ]
  },
  {
   "cell_type": "code",
   "execution_count": null,
   "metadata": {
    "colab": {
     "base_uri": "https://localhost:8080/"
    },
    "id": "yEI7VsGv6mh4",
    "outputId": "251c1a0b-6232-402f-daca-fc5942131893"
   },
   "outputs": [],
   "source": [
    "# Either quickly publish a statement to the server\n",
    "client.claim('All cats are gray')"
   ]
  },
  {
   "cell_type": "markdown",
   "metadata": {
    "id": "0ZBpbhEK6veh"
   },
   "source": [
    "Modo alternativo de criar um Nanopublicação, criando uma assertiva"
   ]
  },
  {
   "cell_type": "code",
   "execution_count": null,
   "metadata": {
    "id": "sna3l9XS6vtB"
   },
   "outputs": [],
   "source": [
    "import rdflib\n",
    "from nanopub import Publication, NanopubClient\n",
    "\n",
    "# Or: 1. construct a desired assertion (a graph of RDF triples) using rdflib\n",
    "my_assertion = rdflib.Graph()\n",
    "my_assertion.add((rdflib.URIRef('https://dbpedia.org/page/Tim_Berners-Lee'),\n",
    "                  rdflib.RDF.type,\n",
    "                  rdflib.FOAF.Person))"
   ]
  },
  {
   "cell_type": "markdown",
   "metadata": {
    "id": "Gb4ncj2f6_OX"
   },
   "source": [
    "Atribuindo a  assertiva"
   ]
  },
  {
   "cell_type": "code",
   "execution_count": null,
   "metadata": {
    "id": "RArFtrEU6_Yf"
   },
   "outputs": [],
   "source": [
    "# 2. Make a Publication object with this assertion\n",
    "publication = Publication.from_assertion(assertion_rdf=my_assertion)"
   ]
  },
  {
   "cell_type": "markdown",
   "metadata": {
    "id": "fWRyUUnS7Oj_"
   },
   "source": [
    "Publicando  a Assertiva"
   ]
  },
  {
   "cell_type": "code",
   "execution_count": null,
   "metadata": {
    "colab": {
     "base_uri": "https://localhost:8080/"
    },
    "id": "3PMmWSu17Os0",
    "outputId": "d661aad8-6d53-44ed-aac1-3ae63877d44c"
   },
   "outputs": [],
   "source": [
    "# 3. Publish the Publication object. The URI at which it is published is returned.\n",
    "publication_info = client.publish(publication)\n",
    "print(publication_info)"
   ]
  },
  {
   "cell_type": "markdown",
   "metadata": {
    "id": "o-bnuvZN7lLR"
   },
   "source": [
    "Busca de uma nanopublicação"
   ]
  },
  {
   "cell_type": "code",
   "execution_count": null,
   "metadata": {
    "colab": {
     "base_uri": "https://localhost:8080/"
    },
    "id": "gZgHNyBx7lUp",
    "outputId": "39b49030-dbf1-4c18-f1a2-5f96e0b42e12"
   },
   "outputs": [],
   "source": [
    "#OK\n",
    "# Search for all nanopublications containing the text 'cats'\n",
    "n = 0\n",
    "results = client.find_nanopubs_with_text('cats')\n",
    "for result in results:\n",
    "    print(result)\n",
    "    n = n + 1\n",
    "print(n)\n",
    "\n"
   ]
  },
  {
   "cell_type": "markdown",
   "metadata": {
    "id": "bLHw93tsDYuk"
   },
   "source": [
    "Excluindo uma nanopublicação"
   ]
  },
  {
   "cell_type": "code",
   "execution_count": null,
   "metadata": {
    "colab": {
     "base_uri": "https://localhost:8080/"
    },
    "id": "3KW0FXzLCrL9",
    "outputId": "37c4e679-cc15-4fe4-ee09-5e519f5273c1"
   },
   "outputs": [],
   "source": [
    "# The URI must be real, Will not work if it was already deleted\n",
    "retract = client.retract ('http://purl.org/np/RA47eJP2UBJCWuJ324c6Qw0OwtCb8wCrprwSk39am7xck', force=True)"
   ]
  },
  {
   "cell_type": "markdown",
   "metadata": {
    "id": "eeLgmcmk8OGS"
   },
   "source": [
    "Buscando e inspecionando uma nanopublicação"
   ]
  },
  {
   "cell_type": "code",
   "execution_count": null,
   "metadata": {
    "id": "Lg_Dd3U28OVS"
   },
   "outputs": [],
   "source": [
    "# Fetch the nanopublication at the specified URI\n",
    "publication = client.fetch('http://purl.org/np/RAbjqc6qbjXVG6y8Uy1fACjpHAEM-79zN-rgHMu8cMkE8')"
   ]
  },
  {
   "cell_type": "markdown",
   "metadata": {
    "id": "6RaOm5i48hky"
   },
   "source": [
    "Imprimindo a nanopublicação"
   ]
  },
  {
   "cell_type": "code",
   "execution_count": null,
   "metadata": {
    "colab": {
     "base_uri": "https://localhost:8080/"
    },
    "id": "6q7AfevC8ht6",
    "outputId": "58212d35-1589-40a6-daab-dac3f876e7f8"
   },
   "outputs": [],
   "source": [
    "# Print the RDF contents of the nanopublication\n",
    "print(publication)"
   ]
  },
  {
   "cell_type": "markdown",
   "metadata": {
    "id": "P0UyEUnH8yS1"
   },
   "source": [
    "Exibindo as Triplas RDF"
   ]
  },
  {
   "cell_type": "code",
   "execution_count": null,
   "metadata": {
    "colab": {
     "base_uri": "https://localhost:8080/"
    },
    "id": "N7XNCh-Z8ydt",
    "outputId": "063072b7-1a8f-40a0-eaa5-a05e2b9c7631"
   },
   "outputs": [],
   "source": [
    "# Iterate through all triples in the assertion graph\n",
    "for s, p, o in publication.assertion:\n",
    "    print(s, p, o)"
   ]
  },
  {
   "cell_type": "markdown",
   "metadata": {
    "id": "qTQsQ0WeG_vm"
   },
   "source": [
    "Manipulando as triplas no Pandas"
   ]
  },
  {
   "cell_type": "code",
   "execution_count": null,
   "metadata": {
    "colab": {
     "base_uri": "https://localhost:8080/"
    },
    "id": "15eKjwrJ86es",
    "outputId": "1f939b2e-4503-4512-9e3d-9f675503b773"
   },
   "outputs": [],
   "source": [
    "# importando a biblioteca\n",
    "import pandas as pd # pandas\n",
    "import numpy as np  # numpy\n",
    "\n",
    "# Iterate through all triples in the assertion graph\n",
    "for s, p, o in publication.assertion:\n",
    "    s1 = pd.Series(s)\n",
    "    p1 = pd.Series(p)\n",
    "    o1 = pd.Series(o)\n",
    "    df = {\"s\":s1,\"p\":p1, \"o\":o1}\n",
    "    #print(s1, p1, o1)\n",
    "    print(df)\n",
    "    #pd.DataFrame(df)\n",
    "\n"
   ]
  },
  {
   "cell_type": "markdown",
   "metadata": {},
   "source": [
    "---\n",
    "#### Fundamentos para Ciência Dados &copy; Copyright 2021, Sergio Serra & Jorge Zavaleta"
   ]
  }
 ],
 "metadata": {
  "colab": {
   "collapsed_sections": [],
   "name": "Nanopublications",
   "provenance": []
  },
  "kernelspec": {
   "display_name": "Python 3",
   "language": "python",
   "name": "python3"
  },
  "language_info": {
   "codemirror_mode": {
    "name": "ipython",
    "version": 3
   },
   "file_extension": ".py",
   "mimetype": "text/x-python",
   "name": "python",
   "nbconvert_exporter": "python",
   "pygments_lexer": "ipython3",
   "version": "3.8.8"
  }
 },
 "nbformat": 4,
 "nbformat_minor": 1
}
