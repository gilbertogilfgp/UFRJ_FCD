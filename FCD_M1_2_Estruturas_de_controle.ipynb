{
 "cells": [
  {
   "cell_type": "markdown",
   "metadata": {},
   "source": [
    "![PPGI_UFRJ](imagens/ppgi-ufrj.png)\n",
    "# Fundamentos de Ciência de Dados"
   ]
  },
  {
   "cell_type": "markdown",
   "metadata": {},
   "source": [
    "---\n",
    "# PPGI/UFRJ 2020.3, 2022.2\n",
    "## Prof Sergio Serra e Jorge Zavaleta"
   ]
  },
  {
   "cell_type": "markdown",
   "metadata": {},
   "source": [
    "---\n",
    "# Módulo 1 - Python"
   ]
  },
  {
   "cell_type": "markdown",
   "metadata": {},
   "source": [
    "## Estruturas de Controle e Repetição"
   ]
  },
  {
   "cell_type": "markdown",
   "metadata": {},
   "source": [
    ">### Estruturas de Controle - if ..."
   ]
  },
  {
   "cell_type": "markdown",
   "metadata": {},
   "source": [
    "A instrução **if** é a estrutura de controle de **decisão** fundamental, que permite que blocos de código alternativos sejam executados com base em algumas condições."
   ]
  },
  {
   "cell_type": "markdown",
   "metadata": {},
   "source": [
    "![if](imagens/if.png)"
   ]
  },
  {
   "cell_type": "markdown",
   "metadata": {},
   "source": [
    "```\n",
    " if <expressao_booleana>:\n",
    "    <instrucoes>\n",
    "```"
   ]
  },
  {
   "cell_type": "code",
   "execution_count": null,
   "metadata": {},
   "outputs": [],
   "source": [
    "# exemplo 1: if...else\n",
    "numero = int(input('Digite um número: '))\n",
    "if numero%2 == 0:\n",
    "    print('valor')\n",
    "    print(f'O número {numero} é par')\n",
    "else:\n",
    "    print(f'O número {numero} é ímpar')"
   ]
  },
  {
   "cell_type": "code",
   "execution_count": null,
   "metadata": {
    "scrolled": true
   },
   "outputs": [],
   "source": [
    "# exemplo 2: if ... else\n",
    "num1 = int(input('Digite o número 1:'))\n",
    "num2 = int(input('Digite o número 2:'))\n",
    "if num1 > num2:\n",
    "    print(f'o número {num1} é maior que {num2}')\n",
    "else:\n",
    "    print(f'o número {num2} é maior que {num1}')"
   ]
  },
  {
   "cell_type": "markdown",
   "metadata": {},
   "source": [
    "> ### Estrutura de controle: if ... else ..."
   ]
  },
  {
   "cell_type": "markdown",
   "metadata": {},
   "source": [
    "![if-else](imagens/if-else.png)"
   ]
  },
  {
   "cell_type": "markdown",
   "metadata": {},
   "source": [
    "```\n",
    " if <expressao_booleana>:\n",
    "    <instrucoes>\n",
    " else:\n",
    "    <instrucoes> \n",
    "```"
   ]
  },
  {
   "cell_type": "markdown",
   "metadata": {},
   "source": [
    "> ### Estrutura de controle: if ... elif ... else ..."
   ]
  },
  {
   "cell_type": "markdown",
   "metadata": {},
   "source": [
    "```\n",
    " if <expressao_booleana>:\n",
    "    <instrucoes>\n",
    " elif <expressao_booleana>:\n",
    "    <instrucoes>\n",
    " else:\n",
    "    <instrucoes> \n",
    "```"
   ]
  },
  {
   "cell_type": "code",
   "execution_count": null,
   "metadata": {},
   "outputs": [],
   "source": [
    "# exemplo 3: if...elif...else\n",
    "a, b = 20,7\n",
    "c = 1.5\n",
    "d =-0.3\n",
    "print('d',type(d))\n",
    "if(a == b):\n",
    "    print(' a igual b')\n",
    "elif(a > b):\n",
    "    print(' a maior que b')\n",
    "elif (a < b):\n",
    "    print(' a menor que b')\n",
    "else:\n",
    "    print(' b maior que a')"
   ]
  },
  {
   "cell_type": "code",
   "execution_count": null,
   "metadata": {},
   "outputs": [],
   "source": [
    "# exemplo 4: if ... elif ... else\n",
    "nota = float(input('Digite a nota:'))\n",
    "if (nota < 0) | (nota > 10):\n",
    "    print('Erro na nota')\n",
    "elif nota >= 9:\n",
    "    print('Grau = A')\n",
    "elif nota >= 8:\n",
    "    print('Grau = B')\n",
    "elif nota >= 7:\n",
    "    print('Grau = C')\n",
    "else:\n",
    "    print('Aluno reprovado!!!')"
   ]
  },
  {
   "cell_type": "code",
   "execution_count": null,
   "metadata": {},
   "outputs": [],
   "source": [
    "# exemplo 5: Estado civil de uma pessoa\n",
    "ec = str(input('estado civil:[s,c,n,d]'))\n",
    "if ec=='s':\n",
    "    print('solteiro(a)')\n",
    "elif ec=='c':\n",
    "    print('casado')\n",
    "    # opcoes\n",
    "elif ec=='n':\n",
    "    # comentario\n",
    "    print('namorando')\n",
    "else:\n",
    "    print('divorciado')"
   ]
  },
  {
   "cell_type": "markdown",
   "metadata": {},
   "source": [
    "### Generalização da Estrutura de Seleção"
   ]
  },
  {
   "cell_type": "markdown",
   "metadata": {},
   "source": [
    "![Estrutura de Seleção](imagens/selecao-geral.png)\n",
    "Figura 3.5 Generalização da estrutura de seleção.\n",
    "RIBEIRO, J.A. Introdução à Programação e aos Algoritmos. LTC, 06/2019."
   ]
  },
  {
   "cell_type": "markdown",
   "metadata": {},
   "source": [
    "```\n",
    " if <expressao_booleana>:\n",
    "    <instrucoes>\n",
    " elif <expressao_booleana>:\n",
    "    <instrucoes>\n",
    " elif <expressao_booleana>:\n",
    "    <instrucoes>\n",
    " ...\n",
    " else:\n",
    "    <instrucoes> \n",
    "```"
   ]
  },
  {
   "cell_type": "code",
   "execution_count": 1,
   "metadata": {},
   "outputs": [],
   "source": [
    "# exemplo if: 6a\n",
    "def temperatura(t):\n",
    "    'Temperatura em Graus Fahrenheit'\n",
    "    print('Temperatura em Graus Fahrenheit:',t)\n",
    "    if t > 86:\n",
    "        print('Está quente!')\n",
    "    elif t > 32:\n",
    "        print('Está frio.')\n",
    "    else:# t <= 32\n",
    "        print('Está congelando!')"
   ]
  },
  {
   "cell_type": "code",
   "execution_count": 2,
   "metadata": {},
   "outputs": [
    {
     "name": "stdout",
     "output_type": "stream",
     "text": [
      "Temperatura em Graus Fahrenheit: 20\n",
      "Está congelando!\n"
     ]
    }
   ],
   "source": [
    "# exemplo if: 6b\n",
    "temperatura(20)"
   ]
  },
  {
   "cell_type": "code",
   "execution_count": 3,
   "metadata": {},
   "outputs": [],
   "source": [
    "# exemplo funcao e if...else: 7\n",
    "def main():\n",
    "    x = int(input('Digite um número: '))\n",
    "    if x%2 == 0:\n",
    "        print('Nùmero par')\n",
    "    else:\n",
    "        print('Número impar')\n",
    "    #return 0"
   ]
  },
  {
   "cell_type": "code",
   "execution_count": 4,
   "metadata": {},
   "outputs": [
    {
     "name": "stdout",
     "output_type": "stream",
     "text": [
      "Digite um número: 80\n",
      "Nùmero par\n"
     ]
    }
   ],
   "source": [
    "# exemplo funcao e if...else: 7\n",
    "main()"
   ]
  },
  {
   "cell_type": "markdown",
   "metadata": {},
   "source": [
    "> ### Estruturas de Repetição - while"
   ]
  },
  {
   "cell_type": "markdown",
   "metadata": {},
   "source": [
    "![while](imagens/while.png)"
   ]
  },
  {
   "cell_type": "markdown",
   "metadata": {},
   "source": [
    "```\n",
    " while <expressao_booleana>:\n",
    "      <sequencia_intrucoes>\n",
    "```"
   ]
  },
  {
   "cell_type": "code",
   "execution_count": 5,
   "metadata": {},
   "outputs": [
    {
     "name": "stdout",
     "output_type": "stream",
     "text": [
      "1\n",
      "2\n",
      "6\n",
      "24\n",
      "120\n",
      "720\n",
      "5040\n",
      "40320\n",
      "362880\n",
      "3628800\n"
     ]
    }
   ],
   "source": [
    "# exemplo 1 - while\n",
    "produto = 1\n",
    "valor = 1\n",
    "while valor <= 10:\n",
    "    produto *= valor # produto = produto * valor\n",
    "    valor += 1       # valor = valor + 1\n",
    "    print(produto)"
   ]
  },
  {
   "cell_type": "code",
   "execution_count": 6,
   "metadata": {
    "scrolled": true
   },
   "outputs": [
    {
     "name": "stdout",
     "output_type": "stream",
     "text": [
      "O valor é 0\n",
      "O valor é 1\n",
      "O valor é 2\n",
      "O valor é 3\n",
      "O valor é 4\n"
     ]
    }
   ],
   "source": [
    "# exemplo 2 - while\n",
    "i = 0\n",
    "while i < 5:\n",
    "    print(f\"O valor é {i}\")\n",
    "    i = i + 1"
   ]
  },
  {
   "cell_type": "code",
   "execution_count": 7,
   "metadata": {
    "scrolled": true
   },
   "outputs": [
    {
     "name": "stdout",
     "output_type": "stream",
     "text": [
      "Digite um número:109\n",
      "A média aritmética da sequência de números até 109 é 55.0\n"
     ]
    }
   ],
   "source": [
    "# exemplo 3: while media de numeros\n",
    "num = int(input(\"Digite um número:\"))\n",
    "i = 0\n",
    "soma = 0\n",
    "contador = 0\n",
    "while i < num:\n",
    "    i = i + 1\n",
    "    soma = soma + i # soma += i\n",
    "    contador = contador + 1\n",
    "    media = soma/contador\n",
    "print(f\"A média aritmética da sequência de números até {num} é {media}\")"
   ]
  },
  {
   "cell_type": "code",
   "execution_count": 8,
   "metadata": {},
   "outputs": [
    {
     "name": "stdout",
     "output_type": "stream",
     "text": [
      "Sequência de quantos números? 5\n",
      "Sequência de Fibonacci\n",
      "0\n",
      "1\n",
      "1\n",
      "2\n",
      "3\n"
     ]
    }
   ],
   "source": [
    "# exemplo 4: sequencia de Fibonacci\n",
    "nterms = int(input('Sequência de quantos números? '))\n",
    "atual = 0\n",
    "anterior = 1\n",
    "contador = 0\n",
    "proximo = 0\n",
    "if nterms <= 0:\n",
    "    print('Digite um número positivo')\n",
    "elif nterms == 1:\n",
    "    print('Sequência de Fibonacci')\n",
    "    print('0')\n",
    "else:\n",
    "    print(\"Sequência de Fibonacci\")\n",
    "    while contador < nterms:\n",
    "        print(proximo)\n",
    "        atual = proximo\n",
    "        proximo = anterior + atual\n",
    "        anterior = atual\n",
    "        contador += 1"
   ]
  },
  {
   "cell_type": "markdown",
   "metadata": {},
   "source": [
    "> ### Estrutura de repetição - for"
   ]
  },
  {
   "cell_type": "markdown",
   "metadata": {},
   "source": [
    "![for](imagens/for.png)"
   ]
  },
  {
   "cell_type": "markdown",
   "metadata": {},
   "source": [
    "```\n",
    " for <variavel> in <iteracao_de_objetos>:\n",
    "     <sequencia_intrucoes>\n",
    "```"
   ]
  },
  {
   "cell_type": "code",
   "execution_count": 9,
   "metadata": {
    "scrolled": true
   },
   "outputs": [
    {
     "name": "stdout",
     "output_type": "stream",
     "text": [
      "1\n",
      "2\n",
      "6\n",
      "24\n",
      "120\n",
      "720\n",
      "5040\n",
      "40320\n",
      "362880\n",
      "3628800\n"
     ]
    }
   ],
   "source": [
    "# exemplo for : 1\n",
    "produto = 1\n",
    "for valor in range(1, 11):\n",
    "    produto *= valor\n",
    "    print(produto)"
   ]
  },
  {
   "cell_type": "code",
   "execution_count": 10,
   "metadata": {},
   "outputs": [
    {
     "name": "stdout",
     "output_type": "stream",
     "text": [
      "O\n",
      " \n",
      "c\n",
      "o\n",
      "r\n",
      "o\n",
      "n\n",
      "a\n",
      "v\n",
      "í\n",
      "r\n",
      "u\n",
      "s\n",
      " \n",
      "é\n",
      " \n",
      "u\n",
      "m\n",
      "a\n",
      " \n",
      "d\n",
      "o\n",
      "e\n",
      "n\n",
      "ç\n",
      "a\n",
      " \n",
      "l\n",
      "e\n",
      "t\n",
      "a\n",
      "l\n",
      " \n",
      "e\n",
      " \n",
      "q\n",
      "u\n",
      "e\n",
      " \n",
      "a\n",
      "i\n",
      "n\n",
      "d\n",
      "a\n",
      " \n",
      "n\n",
      "ã\n",
      "o\n",
      " \n",
      "t\n",
      "e\n",
      "m\n",
      " \n",
      "c\n",
      "u\n",
      "r\n",
      "a\n"
     ]
    }
   ],
   "source": [
    "# exemplo for: 2\n",
    "palavra = 'O coronavírus é uma doença letal e que ainda não tem cura'\n",
    "for x in palavra:\n",
    "    print(x)"
   ]
  },
  {
   "cell_type": "code",
   "execution_count": 11,
   "metadata": {},
   "outputs": [
    {
     "name": "stdout",
     "output_type": "stream",
     "text": [
      "2\n",
      "3\n",
      "4\n"
     ]
    }
   ],
   "source": [
    "# exemplo for : 3\n",
    "for i in range(2,5):\n",
    "    print(i)"
   ]
  },
  {
   "cell_type": "code",
   "execution_count": 12,
   "metadata": {},
   "outputs": [
    {
     "name": "stdout",
     "output_type": "stream",
     "text": [
      "10\n",
      "9\n",
      "8\n"
     ]
    }
   ],
   "source": [
    "# exemplo for e range: 4\n",
    "for k in range(10,7,-1):\n",
    "    print(k)"
   ]
  },
  {
   "cell_type": "code",
   "execution_count": 13,
   "metadata": {
    "scrolled": true
   },
   "outputs": [
    {
     "name": "stdout",
     "output_type": "stream",
     "text": [
      "caracteres: A\n",
      "caracteres: cidade\n",
      "caracteres: de\n",
      "caracteres: Rio de Janeiro\n",
      "caracteres: 2022\n"
     ]
    }
   ],
   "source": [
    "# exemplo for : 5\n",
    "st1 = ['A','cidade','de','Rio de Janeiro',2022]\n",
    "for v in st1:\n",
    "    print('caracteres:',v)"
   ]
  },
  {
   "cell_type": "code",
   "execution_count": 14,
   "metadata": {},
   "outputs": [
    {
     "name": "stdout",
     "output_type": "stream",
     "text": [
      "valor: 1  letras: A\n",
      "valor: 2  letras: cidade\n",
      "valor: 3  letras: de\n",
      "valor: 4  letras: Rio de Janeiro\n",
      "valor: 5  letras: 2022\n"
     ]
    }
   ],
   "source": [
    "# exemplo for e zip : 6\n",
    "valores = [1,2,3,4,5]\n",
    "for valor,letra in zip(valores,st1):\n",
    "    print('valor:',valor,' letras:',letra)"
   ]
  },
  {
   "cell_type": "code",
   "execution_count": 15,
   "metadata": {},
   "outputs": [
    {
     "name": "stdout",
     "output_type": "stream",
     "text": [
      "0\n",
      "1\n",
      "2\n",
      "3\n",
      "4\n",
      "5\n",
      "6\n",
      "7\n",
      "8\n",
      "9\n"
     ]
    }
   ],
   "source": [
    "# exemplo for e range : 7\n",
    "for i in range(10):\n",
    "    print(i)"
   ]
  },
  {
   "cell_type": "code",
   "execution_count": 16,
   "metadata": {},
   "outputs": [
    {
     "name": "stdout",
     "output_type": "stream",
     "text": [
      "C\n",
      "O\n",
      "V\n",
      "I\n",
      "D\n",
      "-\n",
      "1\n",
      "9\n"
     ]
    }
   ],
   "source": [
    "# exemplo for: 8\n",
    "for letra in 'COVID-19':\n",
    "    print(letra)"
   ]
  },
  {
   "cell_type": "code",
   "execution_count": 17,
   "metadata": {},
   "outputs": [
    {
     "name": "stdout",
     "output_type": "stream",
     "text": [
      "2 * 0 = 0\n",
      "2 * 1 = 2\n",
      "2 * 2 = 4\n",
      "2 * 3 = 6\n",
      "2 * 4 = 8\n"
     ]
    }
   ],
   "source": [
    "# exemplo for e range: 9\n",
    "n = 2\n",
    "e = 3\n",
    "p = 1\n",
    "for v in range(5):\n",
    "    p = v*n\n",
    "    print(n,'*',v,'=', p)"
   ]
  },
  {
   "cell_type": "code",
   "execution_count": 18,
   "metadata": {},
   "outputs": [
    {
     "name": "stdout",
     "output_type": "stream",
     "text": [
      "Este x é umx  gato\n",
      "Este x é umx  cão\n",
      "Este x é umx  frango\n",
      "Este x é umx  galinha\n"
     ]
    }
   ],
   "source": [
    "# exemplo for e lista: 10\n",
    "lista =['gato','cão','frango','galinha']\n",
    "for x in lista:\n",
    "    print('Este x é umx ',x)"
   ]
  },
  {
   "cell_type": "code",
   "execution_count": 19,
   "metadata": {},
   "outputs": [
    {
     "name": "stdout",
     "output_type": "stream",
     "text": [
      "o\n",
      "t\n",
      "e\n",
      "b\n",
      "o\n",
      "o\n",
      "k\n"
     ]
    }
   ],
   "source": [
    "# exemplo usando for e string: 11\n",
    "s = 'notebook'\n",
    "for c in s:\n",
    "    if c in 'bookstore':\n",
    "        print(c)"
   ]
  },
  {
   "cell_type": "code",
   "execution_count": 20,
   "metadata": {},
   "outputs": [
    {
     "name": "stdout",
     "output_type": "stream",
     "text": [
      "ï»¿Ay\n",
      "Fonsi\n",
      "DY\n",
      "Oh, oh no, oh no\n",
      "Oh, yeah\n",
      "Diridiri, dirididi Daddy\n",
      "Go\n",
      "Si, sabes que ya llevo un rato mirÃ¡ndote\n",
      "Tengo que bailar contigo hoy (DY)\n",
      "Vi que tu mirada ya estaba llamÃ¡ndome\n",
      "Muestrame el camino que yo voy (oh)\n",
      "Tu, tÃº eres el imÃ¡n y yo soy el metal\n",
      "Me voy acercando y voy armando el plan\n",
      "Solo con pensarlo se acelera el pulso (oh, yeah)\n",
      "Ya, ya me estÃ¡ gustando mÃ¡s de lo normal\n",
      "Todos mis sentidos van pidiendo mÃ¡s\n",
      "Esto hay que tomarlo sin ningÃºn apuro\n",
      "Despacito\n",
      "Quiero respirar tu cuello despacito\n",
      "Deja que te diga cosas al oÃ­do\n",
      "Para que te acuerdes si no estÃ¡s conmigo\n",
      "Despacito\n",
      "Quiero desnudarte a besos despacito\n",
      "Firmar las paredes de tu laberinto\n",
      "Y hacer de tu cuerpo todo un manuscrito\n",
      "Sube, sube, sube\n",
      "Sube, sube\n",
      "Quiero ver bailar tu pelo\n",
      "Quiero ser tu ritmo\n",
      "Que le enseÃ±es a mi boca\n",
      "Tus lugares favoritos (favoritos, favoritos, baby)\n",
      "DÃ©jame sobrepasar tus zonas de peligro\n",
      "Hasta provocar tus gritos\n",
      "Y que olvides tu apellido\n",
      "Si te pido un beso, ven dÃ¡melo\n",
      "Yo sÃ© que estÃ¡s pensÃ¡ndolo\n",
      "Llevo tiempo intentÃ¡ndolo\n",
      "Mami, esto es dando y dÃ¡ndolo\n",
      "Sabes que tu corazÃ³n conmigo te hace bom-bom\n",
      "Sabes que esa beba estÃ¡ buscando de mi bom-bom\n",
      "Ven prueba de mi boca para ver como te sabe\n",
      "Quiero, quiero, quiero ver cuanto amor a ti te cabe\n",
      "Yo no tengo prisa yo me quiero dar el viaje\n",
      "Empezamos lento, despuÃ©s salvaje\n",
      "Pasito a pasito, suave suavecito\n",
      "Nos vamos pegando, poquito a poquito\n",
      "Cuando tÃº me besas con esa destreza\n",
      "Veo que eres malicia con delicadeza\n",
      "Pasito a pasito, suave suavecito\n",
      "Nos vamos pegando, poquito a poquito\n",
      "Y es que esa belleza es un rompecabezas\n",
      "Pero pa montarlo aquÃ­ tengo la pieza\n",
      "Despacito\n",
      "Quiero respirar tu cuello despacito\n",
      "Deja que te diga cosas al oÃ­do\n",
      "Para que te acuerdes si no estÃ¡s conmigo\n",
      "Despacito\n",
      "Quiero desnudarte a besos despacito\n",
      "Firmar las paredes de tu laberinto\n",
      "Y hacer de tu cuerpo todo un manuscrito\n",
      "Sube, sube, sube\n",
      "Sube, sube\n",
      "Quiero ver bailar tu pelo\n",
      "Quiero ser tu ritmo\n",
      "Que le enseÃ±es a mi boca\n",
      "Tus lugares favoritos (favoritos, favoritos, baby)\n",
      "DÃ©jame sobrepasar tus zonas de peligro\n",
      "Hasta provocar tus gritos\n",
      "Y que olvides tu apellido\n",
      "Despacito\n",
      "Vamos a hacerlo en una playa en Puerto Rico\n",
      "Hasta que las olas griten: Â¡Ay, bendito!\n",
      "Para que mi sello se quede contigo\n",
      "Pasito a pasito, suave suavecito\n",
      "Nos vamos pegando, poquito a poquito\n",
      "Que le enseÃ±es a mi boca\n",
      "Tus lugares favoritos (favorito, favorito, baby)\n",
      "Pasito a pasito, suave suavecito\n",
      "Nos vamos pegando, poquito a poquito\n",
      "Hasta provocar tus gritos (Fonsi)\n",
      "Y que olvides tu apellido (DY)\n",
      "Despacito"
     ]
    }
   ],
   "source": [
    "# exemplo for e read file: 12\n",
    "fileRead = open('data/despacito.txt','r')\n",
    "for linha in fileRead:\n",
    "    print(linha,end='')"
   ]
  },
  {
   "cell_type": "code",
   "execution_count": 21,
   "metadata": {},
   "outputs": [
    {
     "name": "stdout",
     "output_type": "stream",
     "text": [
      "0 1 2 3 4 5 6 7 8 9 "
     ]
    }
   ],
   "source": [
    "# exemplo for: 13\n",
    "for n in range(10):\n",
    "    print(n,end=' ')"
   ]
  },
  {
   "cell_type": "code",
   "execution_count": 22,
   "metadata": {},
   "outputs": [
    {
     "name": "stdout",
     "output_type": "stream",
     "text": [
      "->  gato\n",
      "->  peixe\n",
      "->  frango\n",
      "->  galinha\n",
      "->  cachorro\n",
      "->  passaro\n"
     ]
    }
   ],
   "source": [
    "# exemplo for: 14\n",
    "bichos =['gato','peixe','frango','galinha','cachorro','passaro']\n",
    "for i in range(len(bichos)):\n",
    "    print('-> ',bichos[i])"
   ]
  },
  {
   "cell_type": "code",
   "execution_count": 24,
   "metadata": {},
   "outputs": [
    {
     "name": "stdout",
     "output_type": "stream",
     "text": [
      "gato\n",
      "Este é um  frango\n",
      "frango\n",
      "Este é um  cachorro\n",
      "cachorro\n"
     ]
    }
   ],
   "source": [
    "# exemplo for :15\n",
    "for i in range(len(bichos)-1):\n",
    "    if bichos[i] < bichos[i+1]:\n",
    "        print(bichos[i])\n",
    "    else:\n",
    "        print('Este é um ',bichos[i+1])"
   ]
  },
  {
   "cell_type": "code",
   "execution_count": 25,
   "metadata": {},
   "outputs": [
    {
     "name": "stdout",
     "output_type": "stream",
     "text": [
      "Soma = 45\n"
     ]
    }
   ],
   "source": [
    "# exemplo for: 16\n",
    "s = 0\n",
    "for i in range(10):\n",
    "    s += i # s = s+i\n",
    "print('Soma =',s)"
   ]
  },
  {
   "cell_type": "markdown",
   "metadata": {},
   "source": [
    "> ## Latex"
   ]
  },
  {
   "cell_type": "markdown",
   "metadata": {},
   "source": [
    "$x^{2}+y^{2}+10=z$ \n",
    "\n",
    "x+2 = 0"
   ]
  },
  {
   "cell_type": "markdown",
   "metadata": {},
   "source": [
    "## Exercícios\n",
    "Prática dos conteúdos estudados:\n",
    "\n",
    "lista = [-3, -2, -2, 0, 1,2,3,4,5,6,7,8,9,10,11,12,13,14,15,16,17,18,19,20]\n",
    "\n",
    "palavras =['roma','Roma','Rio','Niterói','Araruama','Cabo Frio','Rezende','Volta Redonda']"
   ]
  },
  {
   "cell_type": "markdown",
   "metadata": {},
   "source": [
    "1. Escreva seus dados numa mascara e apresente eles.\n",
    "2. Escreva uma função para contar quantos números ímpares têm a lista\n",
    "3. Contar quantos números pares têm a lista.\n",
    "4. Contar os números negativos da lista.\n",
    "5. Conte quantas palavras têm tamanho 5 na lista de palavras.\n",
    "6. Somar todos os números pares da lista.\n",
    "7. Ordenar de maior a menor a lista de palavras.\n",
    "8. Modifique o exemplo for 10, para apresentar a tabuada de um número ingressado por teclado.\n",
    "9. Escreva uma função chamada **potencia()** que permita uma entrada de um número positivo n e calcule todas as potências de $2^{1}$ até $2^{n}$.\n",
    "10. Escreva uma função que permita verificar se uma lista de enteiros é uma sequência aritmética (se a diferenta entre os elementos sempre é a mesma)"
   ]
  },
  {
   "cell_type": "markdown",
   "metadata": {},
   "source": [
    "---\n",
    "#### &copy; Copyright 2021,2022, Sergio Serra & Jorge Zavaleta"
   ]
  }
 ],
 "metadata": {
  "kernelspec": {
   "display_name": "Python 3 (ipykernel)",
   "language": "python",
   "name": "python3"
  },
  "language_info": {
   "codemirror_mode": {
    "name": "ipython",
    "version": 3
   },
   "file_extension": ".py",
   "mimetype": "text/x-python",
   "name": "python",
   "nbconvert_exporter": "python",
   "pygments_lexer": "ipython3",
   "version": "3.8.13"
  }
 },
 "nbformat": 4,
 "nbformat_minor": 4
}
