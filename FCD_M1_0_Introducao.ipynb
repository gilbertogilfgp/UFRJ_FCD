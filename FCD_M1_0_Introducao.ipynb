{
 "cells": [
  {
   "cell_type": "markdown",
   "metadata": {
    "colab_type": "text",
    "id": "view-in-github"
   },
   "source": [
    "[![Binder](https://mybinder.org/badge_logo.svg)](https://mybinder.org/v2/gh/zavaleta/Fundamentos_DS/main)<a href=\"https://colab.research.google.com/github/zavaleta/Fundamentos_DS/blob/main/FCD_M1_0_Introducao.ipynb\" target=\"_parent\"><img src=\"https://colab.research.google.com/assets/colab-badge.svg\" alt=\"Open In Colab\"/></a>"
   ]
  },
  {
   "cell_type": "markdown",
   "metadata": {
    "id": "WJEBJ372kJml"
   },
   "source": [
    "![PPGI_UFRJ](https://github.com/zavaleta/Fundamentos_DS/blob/main/imagens/ppgi-ufrj.png?raw=1)\n",
    "# Fundamentos de Ciência de Dados"
   ]
  },
  {
   "cell_type": "markdown",
   "metadata": {},
   "source": [
    "---\n",
    "# PPGI/UFRJ 2020.3, 2022.2\n",
    "## Prof Sergio Serra e Jorge Zavaleta"
   ]
  },
  {
   "cell_type": "markdown",
   "metadata": {
    "id": "v1jqACqhkJmr"
   },
   "source": [
    "---\n",
    "# Módulo 1 - Introdução a Markdown"
   ]
  },
  {
   "cell_type": "markdown",
   "metadata": {
    "id": "P-vaVISHkJms"
   },
   "source": [
    "> ## O que é Markdown?"
   ]
  },
  {
   "cell_type": "markdown",
   "metadata": {
    "id": "PA75-r7MkJmt"
   },
   "source": [
    ">**Markdown é uma linguagem de marcação simples usado para adicionar elementos de formatação a documentos de texto simples**, criado em 2004 por John Gruber."
   ]
  },
  {
   "cell_type": "markdown",
   "metadata": {},
   "source": [
    "> ### Titulo pequeno ..."
   ]
  },
  {
   "cell_type": "markdown",
   "metadata": {
    "id": "WRqMgoX1kJmt"
   },
   "source": [
    "###  Linguagem Markdown"
   ]
  },
  {
   "cell_type": "code",
   "execution_count": null,
   "metadata": {
    "id": "wNpspbc3kJmu",
    "outputId": "47d2893e-15f5-4c9d-8b25-a1f66826c6f5"
   },
   "outputs": [],
   "source": [
    "# python\n",
    "print('Hello')"
   ]
  },
  {
   "cell_type": "markdown",
   "metadata": {
    "id": "qjXmUgjxkJmv"
   },
   "source": [
    "# Titulos\n"
   ]
  },
  {
   "cell_type": "code",
   "execution_count": null,
   "metadata": {
    "id": "au-oUZ6bkJmv"
   },
   "outputs": [],
   "source": [
    "# codigo 1\n",
    "def functiox():\n",
    "    print(2)\n"
   ]
  },
  {
   "cell_type": "code",
   "execution_count": null,
   "metadata": {
    "id": "jSPeUPIGkJmw",
    "outputId": "392d42fc-6ac8-421b-c3e7-f71a40478505"
   },
   "outputs": [],
   "source": [
    "functiox()"
   ]
  },
  {
   "cell_type": "markdown",
   "metadata": {},
   "source": [
    ">## Links"
   ]
  },
  {
   "cell_type": "markdown",
   "metadata": {},
   "source": [
    "[Github](https://accounts.google.com/)\n",
    "![Figura](url-figura)"
   ]
  },
  {
   "cell_type": "markdown",
   "metadata": {
    "id": "5AAXwPGWkWUL"
   },
   "source": [
    "# Latex"
   ]
  },
  {
   "cell_type": "markdown",
   "metadata": {
    "id": "a9q1k5vBkJmw"
   },
   "source": [
    "Latex:\n",
    "$x^{2}+4=0$"
   ]
  },
  {
   "cell_type": "code",
   "execution_count": null,
   "metadata": {
    "id": "lqGmSVkNkr1z"
   },
   "outputs": [],
   "source": []
  },
  {
   "cell_type": "markdown",
   "metadata": {
    "id": "5Nkn3ZFekJmw"
   },
   "source": [
    "---\n",
    "#### Fundamentos de Ciência de Dados &copy; Copyright 2021,2022, Sergio Serra & Jorge Zavaleta"
   ]
  }
 ],
 "metadata": {
  "colab": {
   "include_colab_link": true,
   "name": "FCD_M1_0_Introducao.ipynb",
   "provenance": []
  },
  "kernelspec": {
   "display_name": "Python 3 (ipykernel)",
   "language": "python",
   "name": "python3"
  },
  "language_info": {
   "codemirror_mode": {
    "name": "ipython",
    "version": 3
   },
   "file_extension": ".py",
   "mimetype": "text/x-python",
   "name": "python",
   "nbconvert_exporter": "python",
   "pygments_lexer": "ipython3",
   "version": "3.9.12"
  }
 },
 "nbformat": 4,
 "nbformat_minor": 1
}
