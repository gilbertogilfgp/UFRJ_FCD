{
 "cells": [
  {
   "cell_type": "markdown",
   "metadata": {},
   "source": [
    "![PPGI_UFRJ](imagens/ppgi-ufrj.png)\n",
    "# Fundamentos de Ciência de Dados"
   ]
  },
  {
   "cell_type": "markdown",
   "metadata": {},
   "source": [
    "---\n",
    "[![DOI](https://zenodo.org/badge/335308405.svg)](https://zenodo.org/badge/latestdoi/335308405)"
   ]
  },
  {
   "cell_type": "markdown",
   "metadata": {},
   "source": [
    "---\n",
    "# PPGI/UFRJ 2020.3\n",
    "## Prof Sergio Serra e Jorge Zavaleta"
   ]
  },
  {
   "cell_type": "markdown",
   "metadata": {},
   "source": [
    "---\n",
    "# Módulo 2 - Pandas"
   ]
  },
  {
   "cell_type": "markdown",
   "metadata": {},
   "source": [
    ">  **Pandas é a biblioteca de análise de dados em Python**\n",
    "\n",
    ">É uma biblioteca **open source** para análise de dados em Python, de alto desempenho e de fácil uso. Pandas é uma estruturas de dados com eixos rotulados que suportam alinhamento automático ou explícito de dados, evitando erros comuns resultantes de dados desalinhados e do trabalho com dados indexados de forma diferente provenientes de diferentes fontes.\n",
    ">- Possue funcionalidades integradas para lidar com séries temporais.\n",
    ">- Usa as mesmas estruturas de dados para lidar com dados de séries temporais e não temporais.\n",
    ">- Possue operações aritméticas e reduções (como a soma em um eixo) que passariam nos metadados (rótulos dos eixos).\n",
    ">- Tratamento flexível de dados perdidos.\n",
    ">- Merge e outras operações relacionais encontradas em bancos de dados populares (baseados em SQL).\n",
    "\n",
    ">O **kernel** pandas está baseado em duas estruturas de dados primárias nas quais todas as transações, que geralmente são feitas durante a análise de dados são centralizadas em estruturas de **series** e **DataFrames** muito utilizadas em Data Science."
   ]
  },
  {
   "cell_type": "markdown",
   "metadata": {},
   "source": [
    "### Impotando a biblioteca pandas"
   ]
  },
  {
   "cell_type": "code",
   "execution_count": 1,
   "metadata": {},
   "outputs": [],
   "source": [
    "# importando a biblioteca\n",
    "import pandas as pd # pandas\n",
    "import numpy as np  # numpy"
   ]
  },
  {
   "cell_type": "markdown",
   "metadata": {},
   "source": [
    "## Series\n",
    "> Uma **série** é um objeto semelhante a uma matriz unidimensional que contém uma matriz de dados de qualquer tipo de dados (NumPy) e uma matriz associada aos rótulos ou indices do dados.\n",
    "<img src=\"imagens/series.png\" alt=\"series\" width=\"170\"/>"
   ]
  },
  {
   "cell_type": "code",
   "execution_count": null,
   "metadata": {},
   "outputs": [],
   "source": [
    "# criando um objeto serie\n",
    "s0 = pd.Series([4, 7, -5, 3], dtype=np.float64)\n",
    "s0"
   ]
  },
  {
   "cell_type": "code",
   "execution_count": null,
   "metadata": {},
   "outputs": [],
   "source": [
    "# visualizar indices da serie: index\n",
    "print(s0.index)"
   ]
  },
  {
   "cell_type": "code",
   "execution_count": null,
   "metadata": {},
   "outputs": [],
   "source": [
    "# visualiza os valores: values\n",
    "print(s0.values)"
   ]
  },
  {
   "cell_type": "code",
   "execution_count": null,
   "metadata": {},
   "outputs": [],
   "source": [
    "# criando uma serie com indices de letras\n",
    "indices =['a','b','c','d']\n",
    "valores = [1,-5, 20, -90]\n",
    "#\n",
    "s1 = pd.Series(valores,indices, dtype=np.float32)\n",
    "s1"
   ]
  },
  {
   "cell_type": "code",
   "execution_count": null,
   "metadata": {},
   "outputs": [],
   "source": [
    "# criando uma serie com indices numericos\n",
    "indices =['1','2','3','4']\n",
    "valores = [1,-5, 20.0, -90]\n",
    "#\n",
    "s1 = pd.Series(valores,indices)\n",
    "s1"
   ]
  },
  {
   "cell_type": "code",
   "execution_count": null,
   "metadata": {},
   "outputs": [],
   "source": [
    "# criando uma serie alaetoria\n",
    "serie = pd.Series([np.random.randn(50)])\n",
    "# visualizar a serie\n",
    "print('Serie:',serie,'Tipo:',type(serie))"
   ]
  },
  {
   "cell_type": "code",
   "execution_count": null,
   "metadata": {},
   "outputs": [],
   "source": [
    "# criando uma serie de uma lista\n",
    "peso_kg = np.linspace(55,80,100)\n",
    "print(peso_kg)\n",
    "len(peso_kg)"
   ]
  },
  {
   "cell_type": "code",
   "execution_count": null,
   "metadata": {},
   "outputs": [],
   "source": [
    "# convertir dados numpy em Serie (pandas)\n",
    "pesos = pd.Series(peso_kg)\n",
    "pesos.head(20)"
   ]
  },
  {
   "cell_type": "markdown",
   "metadata": {},
   "source": [
    "## Filtrando valores"
   ]
  },
  {
   "cell_type": "code",
   "execution_count": null,
   "metadata": {},
   "outputs": [],
   "source": [
    "# fatiar uma serie condicao booleana\n",
    "p60 =pesos[(pesos>60) & (pesos <70)]\n",
    "print(p60)\n",
    "len(p60)"
   ]
  },
  {
   "cell_type": "code",
   "execution_count": null,
   "metadata": {},
   "outputs": [],
   "source": [
    "# fatiar uma serie\n",
    "p10_50= pesos[10:50]\n",
    "p10_50"
   ]
  },
  {
   "cell_type": "code",
   "execution_count": null,
   "metadata": {},
   "outputs": [],
   "source": [
    "# verificar valores nulos \"false\". Visualiza os 5 valores iniciais (head())\n",
    "n0 = p10_50.isnull()\n",
    "n0.head()"
   ]
  },
  {
   "cell_type": "code",
   "execution_count": null,
   "metadata": {},
   "outputs": [],
   "source": [
    "# valores não nulos \"true\"\n",
    "n1 = p10_50.notnull()\n",
    "n1.head()"
   ]
  },
  {
   "cell_type": "markdown",
   "metadata": {},
   "source": [
    "## Selecionando valores internos\n",
    "> Se pode selecionar elementos individuais da mesma forma como é feita nas matrizes numpy, especificando a **chave** (index)."
   ]
  },
  {
   "cell_type": "code",
   "execution_count": null,
   "metadata": {},
   "outputs": [],
   "source": [
    "# usando o indice na serie n1\n",
    "v0 = p10_50[np.random.randint(10,50,1)]\n",
    "v0"
   ]
  },
  {
   "cell_type": "code",
   "execution_count": null,
   "metadata": {},
   "outputs": [],
   "source": [
    "# usando o indice na serie n1 = p10_50[x,y]: x, y:indices\n",
    "i1 = np.random.randint(10,20,1)\n",
    "i2 = np.random.randint(21,50,1)\n",
    "#print(type(i1))\n",
    "#v1 = pesos[[i1,i2]]\n",
    "v1 = pesos[[int(i1),int(i2)]]               \n",
    "v1"
   ]
  },
  {
   "cell_type": "markdown",
   "metadata": {},
   "source": [
    "## Atribuição de valores aos elementos\n",
    "> A atribuição de novos valores aos elementos da série pode ser feito selecionando o **índice** ou rótulo."
   ]
  },
  {
   "cell_type": "code",
   "execution_count": null,
   "metadata": {},
   "outputs": [],
   "source": [
    "## atribuir valor -1 al elemento de indice 60\n",
    "pesos[60] = -1\n",
    "pesos[[59,60,61]]"
   ]
  },
  {
   "cell_type": "markdown",
   "metadata": {},
   "source": [
    "## Definir séries a partir de  matrizes NumPy ou de outras séries"
   ]
  },
  {
   "cell_type": "code",
   "execution_count": null,
   "metadata": {},
   "outputs": [],
   "source": [
    "# matriz numpy -> valores passados por referencia\n",
    "m0 = np.array([1,1,2,3,4,5,-1, -1])\n",
    "S0 = pd.Series(m0)\n",
    "S0"
   ]
  },
  {
   "cell_type": "code",
   "execution_count": null,
   "metadata": {},
   "outputs": [],
   "source": [
    "# os valores da serie são passados por referencia\n",
    "S0[7] = 10\n",
    "print(S0)\n",
    "print(m0)"
   ]
  },
  {
   "cell_type": "markdown",
   "metadata": {},
   "source": [
    "## Operações e funções matemáticas\n",
    "> Nas séries podem ser usadas todas as operações matemáticas aplicadas nos \"arrays\" numpy **(+,-,*,/)**."
   ]
  },
  {
   "cell_type": "code",
   "execution_count": null,
   "metadata": {},
   "outputs": [],
   "source": [
    "# usando a serie S0\n",
    "ds = S0*4 #S0 + 4 # S0 - 2 # S0/4\n",
    "ds"
   ]
  },
  {
   "cell_type": "code",
   "execution_count": null,
   "metadata": {},
   "outputs": [],
   "source": [
    "# usando funções matematicas\n",
    "l0 = np.log(S0)\n",
    "l0"
   ]
  },
  {
   "cell_type": "markdown",
   "metadata": {},
   "source": [
    "## Avaliando valores\n",
    "> A função **unique()** retorna uma matriz com valores únicos, excluindo duplicatas, embora não necessariamente em ordem.\n",
    "\n",
    "> **value_counts()** retorna os valores únicos e conta as ocorrências na série.\n",
    "\n",
    "> **isin()** avalia a pertinência dos elementos na série. Esta função informa se os valores estão contidos na estrutura de dados"
   ]
  },
  {
   "cell_type": "code",
   "execution_count": null,
   "metadata": {},
   "outputs": [],
   "source": [
    "# usando unique() em l0\n",
    "u0 = l0.unique()\n",
    "print(u0)"
   ]
  },
  {
   "cell_type": "code",
   "execution_count": null,
   "metadata": {},
   "outputs": [],
   "source": [
    "# retorna os valores unicos e o numero de ocorrencias deles\n",
    "u1 = l0.value_counts()\n",
    "u1"
   ]
  },
  {
   "cell_type": "code",
   "execution_count": null,
   "metadata": {},
   "outputs": [],
   "source": [
    "# existem valores 0 na serie?\n",
    "u2 = l0.isin([0])\n",
    "u2"
   ]
  },
  {
   "cell_type": "code",
   "execution_count": null,
   "metadata": {},
   "outputs": [],
   "source": [
    "# 0 e 3 estão na serie?\n",
    "u3 = l0.isin([0,3])\n",
    "u3"
   ]
  },
  {
   "cell_type": "code",
   "execution_count": null,
   "metadata": {},
   "outputs": [],
   "source": [
    "# filtra valores usando isin()\n",
    "u4 = l0[l0.isin([0,3])]\n",
    "u4"
   ]
  },
  {
   "cell_type": "markdown",
   "metadata": {},
   "source": [
    "## Operações entre séries"
   ]
  },
  {
   "cell_type": "code",
   "execution_count": null,
   "metadata": {},
   "outputs": [],
   "source": [
    "# criando serie 1\n",
    "mydict1 = {'red': 2000, 'blue': 1000, 'yellow': 500,'orange': 1000}\n",
    "serie1 = pd.Series(mydict1)\n",
    "print(serie1)\n",
    "print()\n",
    "# serie 2\n",
    "mydict2 = {'red':400,'yellow':1000,'black':700}\n",
    "serie2 = pd.Series(mydict2)\n",
    "print(serie2)\n",
    "print()\n",
    "ss = serie1 + serie2\n",
    "print(ss)"
   ]
  },
  {
   "cell_type": "markdown",
   "metadata": {},
   "source": [
    "## DataFrames\n",
    "> Um **DataFrame** representa uma estrutura de dados tabular semelhante a uma planilha contendo uma coleção ordenada de colunas, cada uma das quais pode ter um tipo de valor diferente (numérico, string, booleano etc.). O **DataFrame** tem um índice para linha e coluna.\n",
    "<img src=\"imagens/dataframes.png\" alt=\"dataframes\" width=\"300\"/>"
   ]
  },
  {
   "cell_type": "code",
   "execution_count": null,
   "metadata": {},
   "outputs": [],
   "source": [
    "# criando um dataframe: indices = {Idade, Altura,Peso}\n",
    "df = pd.DataFrame({'Idade':np.random.randint(25,high=50,size=40),\n",
    "                  'Altura':1.20+np.random.rand(40),\n",
    "                  'Peso':np.linspace(55,90,40)})"
   ]
  },
  {
   "cell_type": "code",
   "execution_count": null,
   "metadata": {},
   "outputs": [],
   "source": [
    "# Visualizar os 5 primeiros registros do dataframe\n",
    "df.head(20) # "
   ]
  },
  {
   "cell_type": "code",
   "execution_count": null,
   "metadata": {},
   "outputs": [],
   "source": [
    "# algumas metricas sobre os dados\n",
    "df.describe()"
   ]
  },
  {
   "cell_type": "markdown",
   "metadata": {},
   "source": [
    "> ### Percentil - divisão da amostra em percetuais.\n",
    ">> - 25% dos elementos são inferiores a X.Y anos, X.Y m e X.Y kg.\n",
    ">> - Metade dos elementos são inferiores a X.Y anos, X.Y m e X.Y kg.\n",
    ">> - 75% dos elementos são inferiores a X.Y anos, X.Y m e X.Y kg."
   ]
  },
  {
   "cell_type": "code",
   "execution_count": null,
   "metadata": {},
   "outputs": [],
   "source": [
    "# visualizar os nomes das colunas\n",
    "df.columns"
   ]
  },
  {
   "cell_type": "code",
   "execution_count": null,
   "metadata": {},
   "outputs": [],
   "source": [
    "# visualizar os valores das colunas\n",
    "df.values"
   ]
  },
  {
   "cell_type": "code",
   "execution_count": null,
   "metadata": {},
   "outputs": [],
   "source": [
    "# Visualizar o DataFrame como Matriz(transposta)\n",
    "df.T"
   ]
  },
  {
   "cell_type": "code",
   "execution_count": null,
   "metadata": {},
   "outputs": [],
   "source": [
    "# \"fatiar\" um dataframe\n",
    "idade = df['Idade']\n",
    "idade.head()"
   ]
  },
  {
   "cell_type": "code",
   "execution_count": null,
   "metadata": {},
   "outputs": [],
   "source": [
    "peso =df['Peso']\n",
    "peso.head()"
   ]
  },
  {
   "cell_type": "code",
   "execution_count": null,
   "metadata": {},
   "outputs": [],
   "source": [
    "# fatiar selecionando linhas\n",
    "df1 = df[(df.Idade > 30) & (df.Idade < 40)]\n",
    "df1.head()"
   ]
  },
  {
   "cell_type": "code",
   "execution_count": null,
   "metadata": {},
   "outputs": [],
   "source": [
    "# operacoes com colulas Peso/Altura\n",
    "df['peso-altura']= np.round(df['Peso']/df['Altura'],decimals=2)\n",
    "df.head()"
   ]
  },
  {
   "cell_type": "markdown",
   "metadata": {},
   "source": [
    "## Leitura de arquivos"
   ]
  },
  {
   "cell_type": "markdown",
   "metadata": {},
   "source": [
    "> Existem funções que permitem ler dados de diversos formatos. Um dos mais usados em **datasets** é o **CSV** - *Comma Separated Value* (Valores Separados por Vírgulas), que podem ser importados e exportados pela maioria de aplicações."
   ]
  },
  {
   "cell_type": "markdown",
   "metadata": {},
   "source": [
    "| Data          | Formato       | Reader        | Writer        |\n",
    "| :---:         | :---:         | :---:         | :---:         |\n",
    "| CSV           | Texto         | read_csv      | to_csv        |\n",
    "| JSON          | Texto         | read_json     | to_json       |\n",
    "| HTML          | Texto         | read_html     | to_html       |\n",
    "| MS_EXCEL      | Binário       | read_excel    | to_excel      |\n",
    "| SQL           | SQL           | read_sql      | to_sql        |"
   ]
  },
  {
   "cell_type": "markdown",
   "metadata": {},
   "source": [
    "### Google Colab (usar dados do PC)\n",
    "\n",
    "> ```from google.colab import drive```\n",
    "\n",
    "> ```drive.mount('/content/drive')```\n",
    "\n",
    "> Seguir o link para copiar o código e colar o espaço solicitado. **My Drive** é o google drive, logo adicionar o caminho do diretório para fazer a leitura do arquivo desejado.\n",
    "\n",
    "> ```dadosx = pd.read_csv('/content/drive/My Drive/datasets/covid19_confirmed.csv',delimiter=',')```\n",
    "\n",
    "> ```dadosx.head(10)```"
   ]
  },
  {
   "cell_type": "markdown",
   "metadata": {},
   "source": [
    "> ### Importar dados do GitHub\n",
    "> ```!git clone https://github.com/zavaleta/Fundamentos_DS```\n",
    "> ### Leitura dos dados\n",
    "> ```file_data = pd.read_csv('Fundamentos_DS/data/file.csv')```"
   ]
  },
  {
   "cell_type": "markdown",
   "metadata": {},
   "source": [
    "### Arquivos CSV"
   ]
  },
  {
   "cell_type": "code",
   "execution_count": null,
   "metadata": {},
   "outputs": [],
   "source": [
    "# exemplo 1: Covid19 - Pernambuco\n",
    "prouni = pd.read_csv('data/cursos-prouni2020.csv',delimiter=',',decimal=',')\n",
    "prouni.head()"
   ]
  },
  {
   "cell_type": "code",
   "execution_count": null,
   "metadata": {},
   "outputs": [],
   "source": [
    "# visualizando as colunas\n",
    "prouni.columns"
   ]
  },
  {
   "cell_type": "code",
   "execution_count": null,
   "metadata": {},
   "outputs": [],
   "source": [
    "# visualizando valores do dataframe\n",
    "valores = prouni.values\n",
    "valores"
   ]
  },
  {
   "cell_type": "markdown",
   "metadata": {},
   "source": [
    "## Selecioando elementos"
   ]
  },
  {
   "cell_type": "code",
   "execution_count": null,
   "metadata": {},
   "outputs": [],
   "source": [
    "# visualizando coluna\n",
    "turno = prouni[['turno','mensalidade']]\n",
    "turno.head()"
   ]
  },
  {
   "cell_type": "code",
   "execution_count": null,
   "metadata": {},
   "outputs": [],
   "source": [
    "# visualizando coluna\n",
    "campus = prouni['campus_nome']\n",
    "campus.head()"
   ]
  },
  {
   "cell_type": "code",
   "execution_count": null,
   "metadata": {},
   "outputs": [],
   "source": [
    "# visualiza elementos usando o indice da fila\n",
    "loc_campus = campus.loc[2]\n",
    "loc_campus"
   ]
  },
  {
   "cell_type": "code",
   "execution_count": null,
   "metadata": {},
   "outputs": [],
   "source": [
    "# visualiza elementos usando o 2 indices das filas\n",
    "loc_campus1 = campus.loc[[2,10]]\n",
    "loc_campus1"
   ]
  },
  {
   "cell_type": "code",
   "execution_count": null,
   "metadata": {},
   "outputs": [],
   "source": [
    "# visualiza elementos usando o indices da fila\n",
    "loc_campus2 = campus[2:10]\n",
    "loc_campus2"
   ]
  },
  {
   "cell_type": "code",
   "execution_count": null,
   "metadata": {},
   "outputs": [],
   "source": [
    "loc_campus3 = campus.iloc[2:10]\n",
    "loc_campus3"
   ]
  },
  {
   "cell_type": "code",
   "execution_count": null,
   "metadata": {},
   "outputs": [],
   "source": [
    "# eliminar uma coluna\n",
    "#del dataFrme['nome_coluna']"
   ]
  },
  {
   "cell_type": "code",
   "execution_count": null,
   "metadata": {},
   "outputs": [],
   "source": [
    "# turno tem alguma valor nulo?\n",
    "tn = turno.isnull()\n",
    "tn.head()"
   ]
  },
  {
   "cell_type": "markdown",
   "metadata": {},
   "source": [
    "### Arquivos JSON"
   ]
  },
  {
   "cell_type": "code",
   "execution_count": null,
   "metadata": {},
   "outputs": [],
   "source": [
    "read_json = pd.read_json('data/article-prov.json')\n",
    "print(read_json)\n",
    "#write_json = pd.to_json('data/file.json')"
   ]
  },
  {
   "cell_type": "markdown",
   "metadata": {},
   "source": [
    "### Arquivos MS_EXCEL"
   ]
  },
  {
   "cell_type": "code",
   "execution_count": null,
   "metadata": {},
   "outputs": [],
   "source": [
    "# criando um arquivo MS_EXCEL\n",
    "file_excel = prouni.loc[:5,:'mensalidade']\n",
    "print(file_excel)\n",
    "# gravando um arquivo excel\n",
    "file_excel.to_excel('data/excel_teste.xlsx')"
   ]
  },
  {
   "cell_type": "code",
   "execution_count": null,
   "metadata": {},
   "outputs": [],
   "source": [
    "read_excel = pd.read_excel('data/excel_teste.xlsx',index_col=0)\n",
    "read_excel.head()"
   ]
  },
  {
   "cell_type": "markdown",
   "metadata": {},
   "source": [
    "### Método *iloc*\n",
    "> As linhas de um DataFrame podem ser acessadas por meio do método **iloc**, que usa uma sintaxe semelhante à de uma lista."
   ]
  },
  {
   "cell_type": "code",
   "execution_count": null,
   "metadata": {},
   "outputs": [],
   "source": [
    "# visualiza os dados\n",
    "prouni.head()"
   ]
  },
  {
   "cell_type": "code",
   "execution_count": null,
   "metadata": {},
   "outputs": [],
   "source": [
    "# visualiza a linha = 1\n",
    "prouni.iloc[1]"
   ]
  },
  {
   "cell_type": "code",
   "execution_count": null,
   "metadata": {},
   "outputs": [],
   "source": [
    "# visualiza as linhas 1 ao 4\n",
    "prouni.iloc[1:4]"
   ]
  },
  {
   "cell_type": "code",
   "execution_count": null,
   "metadata": {},
   "outputs": [],
   "source": [
    "# fatiar um data frame\n",
    "prouni.iloc[:3,:3]"
   ]
  },
  {
   "cell_type": "code",
   "execution_count": null,
   "metadata": {},
   "outputs": [],
   "source": [
    "# acessando as filas pares (indices)\n",
    "pares = prouni.iloc[prouni.index % 2 == 0]\n",
    "pares.head()"
   ]
  },
  {
   "cell_type": "markdown",
   "metadata": {},
   "source": [
    "### Método *loc*\n",
    "> **loc** é semelhante ao **iloc**, mas permite indexar um DataFrame por meio de nomes de coluna ou rótulos."
   ]
  },
  {
   "cell_type": "code",
   "execution_count": null,
   "metadata": {},
   "outputs": [],
   "source": [
    "# Visualiza a coluna 1\n",
    "prouni.loc[0,:'grau']"
   ]
  },
  {
   "cell_type": "code",
   "execution_count": null,
   "metadata": {},
   "outputs": [],
   "source": [
    "# fatiar um dataFrame\n",
    "p0 = prouni.loc[:'grau',:'curso_id']\n",
    "p0.head()"
   ]
  },
  {
   "cell_type": "markdown",
   "metadata": {},
   "source": [
    "### Reindexar\n",
    "> O método de reindexação em **Pandas**, significa criar um novo objeto com os dados em concordância com um novo índice."
   ]
  },
  {
   "cell_type": "code",
   "execution_count": null,
   "metadata": {},
   "outputs": [],
   "source": [
    "# pandas original\n",
    "rein0 = pd.Series([4.5, 7.2, -5.3, 3.6], index=['a', 'b', 'c', 'd'])\n",
    "rein0"
   ]
  },
  {
   "cell_type": "code",
   "execution_count": null,
   "metadata": {},
   "outputs": [],
   "source": [
    "# mudando index\n",
    "rein1 = pd.Series([4.5, 7.2, -5.3, 3.6], index=['d', 'b', 'a', 'c'])\n",
    "rein1"
   ]
  },
  {
   "cell_type": "code",
   "execution_count": null,
   "metadata": {},
   "outputs": [],
   "source": [
    "# reindexando\n",
    "r = pd.Series(['blue', 'purple', 'yellow'], index=[0, 2, 6])\n",
    "rein2 = r.reindex(range(6),method='ffill')\n",
    "rein2"
   ]
  },
  {
   "cell_type": "markdown",
   "metadata": {},
   "source": [
    "### Eliminando entradas de uma fila (axis=0) ou coluna (axis=1) - DROP\n",
    "> Eliminar uma ou mais entradas de uma fila/coluna de uma matriz de índice ou de uma lista sem entradas. o método **drop** retornará um novo objeto com o valor indicado ou valores deletados de uma fila/coluna"
   ]
  },
  {
   "cell_type": "code",
   "execution_count": null,
   "metadata": {},
   "outputs": [],
   "source": [
    "# criando a serie\n",
    "d0 = pd.Series(np.arange(5.), index=['a', 'b', 'c', 'd', 'e'])\n",
    "d0"
   ]
  },
  {
   "cell_type": "code",
   "execution_count": null,
   "metadata": {},
   "outputs": [],
   "source": [
    "# drop -> elimiando a fila 'c'\n",
    "dc = d0.drop('c')\n",
    "dc"
   ]
  },
  {
   "cell_type": "code",
   "execution_count": null,
   "metadata": {},
   "outputs": [],
   "source": [
    "# drop -> elimiando a fila 'c'\n",
    "d_ae = d0.drop(['a','e'])\n",
    "d_ae"
   ]
  },
  {
   "cell_type": "code",
   "execution_count": null,
   "metadata": {},
   "outputs": [],
   "source": [
    "m4x4 = pd.DataFrame(np.arange(16).reshape((4, 4)),index=['RJ', 'SP', 'AC', 'CE'],\n",
    "                 columns=['um', 'dois', 'três', 'quatro'])\n",
    "m4x4"
   ]
  },
  {
   "cell_type": "code",
   "execution_count": null,
   "metadata": {},
   "outputs": [],
   "source": [
    "# drop filas (index)\n",
    "dfil = m4x4.drop(['RJ','CE'])\n",
    "dfil"
   ]
  },
  {
   "cell_type": "code",
   "execution_count": null,
   "metadata": {},
   "outputs": [],
   "source": [
    "# drop coluna (axis=1)\n",
    "dcol = m4x4.drop('três',axis=1)\n",
    "dcol"
   ]
  },
  {
   "cell_type": "code",
   "execution_count": null,
   "metadata": {},
   "outputs": [],
   "source": [
    "# drop coluna (axis=1)\n",
    "dcol0 = m4x4.drop('um',axis=1)\n",
    "dcol0"
   ]
  },
  {
   "cell_type": "code",
   "execution_count": null,
   "metadata": {},
   "outputs": [],
   "source": [
    "# drop fila (axis=1)\n",
    "dfil0 = m4x4.drop('SP',axis=0)\n",
    "dfil0"
   ]
  },
  {
   "cell_type": "markdown",
   "metadata": {},
   "source": [
    "### Selecionar"
   ]
  },
  {
   "cell_type": "code",
   "execution_count": null,
   "metadata": {},
   "outputs": [],
   "source": [
    "# filtrar por colunas\n",
    "m1 = m4x4[['um','dois']]\n",
    "m1"
   ]
  },
  {
   "cell_type": "markdown",
   "metadata": {},
   "source": [
    "### Filtrar"
   ]
  },
  {
   "cell_type": "code",
   "execution_count": null,
   "metadata": {},
   "outputs": [],
   "source": [
    "# filtra elementos > 4\n",
    "m2 = m4x4[m4x4 > 4]\n",
    "m2"
   ]
  },
  {
   "cell_type": "markdown",
   "metadata": {},
   "source": [
    "### Fatiamento (slice)"
   ]
  },
  {
   "cell_type": "code",
   "execution_count": null,
   "metadata": {},
   "outputs": [],
   "source": [
    "# slice index\n",
    "m3 = m4x4['AC':'CE']\n",
    "m3"
   ]
  },
  {
   "cell_type": "code",
   "execution_count": null,
   "metadata": {},
   "outputs": [],
   "source": [
    "# slice index\n",
    "m4x4['AC':'CE']=5\n",
    "m4x4"
   ]
  },
  {
   "cell_type": "markdown",
   "metadata": {},
   "source": [
    "## Tratamentos de falta de dados "
   ]
  },
  {
   "cell_type": "markdown",
   "metadata": {},
   "source": [
    ">Com frequência é encontrado datasets com falta de dados, com dados nulos ou com dados incoerentes. Estes datasets devem ser limpados e homogeneizados antes de realizar qualquer operação.\n",
    "\n",
    ">Pandas têm duas formas de tratar dados com valores **null**, **NaN** ou **NA**: Usando uma **máscara** que indica perda de valores ou escolher um valor **sentinela** que indica entrada ausente.\n",
    "\n",
    ">1. **Máscara**: A máscara pode ser uma matriz booleana totalmente separada ou pode envolver a representação de um bit para indicar localmente o status nulo de um valor.\n",
    "\n",
    ">2. **Sentinela**: o valor do sentinela pode ser uma convenção específica de dados, como por exemplo, para indicar um valor inteiro com **-999** ou otro valor determinado por convenção. O valor **NaN** é uma convenção da IEEE para determinar um valor de ponto flutuante ausente. "
   ]
  },
  {
   "cell_type": "markdown",
   "metadata": {},
   "source": [
    "### None\n",
    ">É o primeiro valor sentinela usado por Pandas, tratado como um objeto do Python."
   ]
  },
  {
   "cell_type": "code",
   "execution_count": null,
   "metadata": {},
   "outputs": [],
   "source": [
    "# carregando as bibliotecas \n",
    "import numpy as np               # numpy\n",
    "import pandas as pd              # pandas\n",
    "import matplotlib.pyplot as plt  # graficos"
   ]
  },
  {
   "cell_type": "code",
   "execution_count": null,
   "metadata": {},
   "outputs": [],
   "source": [
    "# exemplo\n",
    "notas_none = np.array([4.0, 7.0, 6.5, None, 10.0, 8.8, None, 9.0, 4.0, 7.0, 9.5])\n",
    "print('A:',notas_none)"
   ]
  },
  {
   "cell_type": "code",
   "execution_count": null,
   "metadata": {},
   "outputs": [],
   "source": [
    "# operção não definida!!!\n",
    "notas_none.sum()"
   ]
  },
  {
   "cell_type": "markdown",
   "metadata": {},
   "source": [
    "### NaN\n",
    ">Dados numéricos ausentes. (*Not a Number*). Valor de ponto flutuante especial reconhezidos pelos sistemas que usam a representação padrão de ponto flutuante da IEEE."
   ]
  },
  {
   "cell_type": "code",
   "execution_count": null,
   "metadata": {},
   "outputs": [],
   "source": [
    "notas_nan = np.array([4.0,7.0, 6.5, np.nan, 10, 8.8, np.nan, 9.0])\n",
    "print('Notas:',notas_nan)\n",
    "print('Tipo:',notas_nan.dtype)"
   ]
  },
  {
   "cell_type": "code",
   "execution_count": null,
   "metadata": {},
   "outputs": [],
   "source": [
    "# Operacoes aritmeticas: soma\n",
    "v = 1 + np.nan\n",
    "v"
   ]
  },
  {
   "cell_type": "code",
   "execution_count": null,
   "metadata": {},
   "outputs": [],
   "source": [
    "# Operacoes aritmeticas: multiplicacao\n",
    "v1 = 0*np.nan\n",
    "v1"
   ]
  },
  {
   "cell_type": "code",
   "execution_count": null,
   "metadata": {},
   "outputs": [],
   "source": [
    "# agregados\n",
    "notas_nan.sum(), notas_nan.min(), notas_nan.max()"
   ]
  },
  {
   "cell_type": "markdown",
   "metadata": {},
   "source": [
    "### NaN e None em Pandas"
   ]
  },
  {
   "cell_type": "code",
   "execution_count": null,
   "metadata": {},
   "outputs": [],
   "source": [
    "# serie de pandas\n",
    "serie = pd.Series([2,3.0, np.nan, 8, 5.0, None,-1.0])\n",
    "serie"
   ]
  },
  {
   "cell_type": "code",
   "execution_count": null,
   "metadata": {},
   "outputs": [],
   "source": [
    "# serie de pandas\n",
    "x_int = pd.Series(range(6), dtype=int)\n",
    "x_int"
   ]
  },
  {
   "cell_type": "code",
   "execution_count": null,
   "metadata": {},
   "outputs": [],
   "source": [
    "x_int[0] = None\n",
    "x_int[3]  = None\n",
    "x_int"
   ]
  },
  {
   "cell_type": "markdown",
   "metadata": {},
   "source": [
    "### Operações com valores nulos\n",
    "> - **isnull()**: Gera uma mácara booleana indicandoi valores ausentes.\n",
    "> - **notnull()**: Retorna os valores não nulos\n",
    "> - **dropna()**: Retorna a serie ou dataframe sem valores nulos.\n",
    "> - **fullna()**: Retorna uma copia dos dados com valores ausentes preenchidos."
   ]
  },
  {
   "cell_type": "code",
   "execution_count": null,
   "metadata": {},
   "outputs": [],
   "source": [
    "# exemplos detectando valores nulos\n",
    "serie_nulos = pd.Series([-1.0, 1, 4.5, np.nan, 'oi',None, 10])\n",
    "print('Serie:',serie_nulos)"
   ]
  },
  {
   "cell_type": "code",
   "execution_count": null,
   "metadata": {},
   "outputs": [],
   "source": [
    "# valores não nulos\n",
    "serie_nulos[serie_nulos.notnull()]"
   ]
  },
  {
   "cell_type": "code",
   "execution_count": null,
   "metadata": {},
   "outputs": [],
   "source": [
    "# Eliminando valores nulos\n",
    "n_nulos = serie_nulos.dropna()\n",
    "n_nulos"
   ]
  },
  {
   "cell_type": "code",
   "execution_count": null,
   "metadata": {},
   "outputs": [],
   "source": [
    "# DataFrame\n",
    "df = pd.DataFrame([[1, np.nan, 2,5],[2, 3, 5, -1.0],[np.nan, 4, 6, 20]])\n",
    "df"
   ]
  },
  {
   "cell_type": "code",
   "execution_count": null,
   "metadata": {},
   "outputs": [],
   "source": [
    "# dropna em dataframe\n",
    "df1 = df.dropna()\n",
    "df1"
   ]
  },
  {
   "cell_type": "code",
   "execution_count": null,
   "metadata": {},
   "outputs": [],
   "source": [
    "# Elimina colunas\n",
    "df2 = df.dropna(axis='columns')\n",
    "df2"
   ]
  },
  {
   "cell_type": "code",
   "execution_count": null,
   "metadata": {},
   "outputs": [],
   "source": [
    "# elimina filas ou linhas\n",
    "df3 = df2 = df.dropna(axis='rows')\n",
    "df3"
   ]
  },
  {
   "cell_type": "code",
   "execution_count": null,
   "metadata": {},
   "outputs": [],
   "source": [
    "# elimina todas as colunas com valores nulos\n",
    "print(df)\n",
    "df3 = df.dropna(axis=1)\n",
    "print(df3)"
   ]
  },
  {
   "cell_type": "code",
   "execution_count": null,
   "metadata": {},
   "outputs": [],
   "source": [
    "# preenchendo valores nulos\n",
    "dados = pd.Series([1, np.nan, 2, None, 3.0, 6.0, 7], index=list('abcdedg'))\n",
    "dados"
   ]
  },
  {
   "cell_type": "code",
   "execution_count": null,
   "metadata": {},
   "outputs": [],
   "source": [
    "# preenchendo com zero\n",
    "d = dados.fillna(0)\n",
    "d"
   ]
  },
  {
   "cell_type": "markdown",
   "metadata": {},
   "source": [
    "### Métodos aritméticos"
   ]
  },
  {
   "cell_type": "code",
   "execution_count": null,
   "metadata": {},
   "outputs": [],
   "source": [
    "# criar 2 dataframes\n",
    "M1 = pd.DataFrame(np.arange(8.).reshape((2, 4)), columns=list('abcd'))\n",
    "print(M1)\n",
    "M2 = pd.DataFrame(np.arange(15.).reshape((3, 5)), columns=list('abcde'))\n",
    "print(M2)"
   ]
  },
  {
   "cell_type": "code",
   "execution_count": null,
   "metadata": {},
   "outputs": [],
   "source": [
    "# Método add\n",
    "M3 = M1 + M2\n",
    "M3"
   ]
  },
  {
   "cell_type": "code",
   "execution_count": null,
   "metadata": {},
   "outputs": [],
   "source": [
    "# Método add - sub - div - mul\n",
    "M4 = M1.div(M2,fill_value=0)\n",
    "M4"
   ]
  },
  {
   "cell_type": "markdown",
   "metadata": {},
   "source": [
    "### Estatísticas descritivas\n",
    "> Os objetos pandas são munidos de um conjunto de métodos matemáticos e estatísticas comuns, estes métodos extraem um único valor de uma série ou de uma série de valores das linhas ou colunas de um DataFrame.\n",
    "\n",
    "> Os métodos estatísticos auxiliam na compreensão e análise do comportamento dos dados.\n",
    "> **sum**, **mean**,**median**,**varience**,**covariance**,**correlation**, etc."
   ]
  },
  {
   "cell_type": "code",
   "execution_count": null,
   "metadata": {},
   "outputs": [],
   "source": [
    "# Gerando dados\n",
    "df_data =  pd.DataFrame(np.random.randn(10, 5), index = pd.date_range('1/1/2020', periods=10),\n",
    "                       columns = ['A', 'B', 'C', 'D','E'])\n",
    "print(df_data)"
   ]
  },
  {
   "cell_type": "code",
   "execution_count": null,
   "metadata": {},
   "outputs": [],
   "source": [
    "# soma de  todas as colunas\n",
    "sc = df_data.sum() # sum(axis=0) # soma cada coluna\n",
    "print(sc)"
   ]
  },
  {
   "cell_type": "code",
   "execution_count": null,
   "metadata": {},
   "outputs": [],
   "source": [
    "# soma cada fila (row)\n",
    "sc_1 = df_data.sum(axis=1)\n",
    "print(sc_1)"
   ]
  },
  {
   "cell_type": "code",
   "execution_count": null,
   "metadata": {},
   "outputs": [],
   "source": [
    "# media das colunas\n",
    "media_c = df_data.mean()\n",
    "print(media_c)"
   ]
  },
  {
   "cell_type": "code",
   "execution_count": null,
   "metadata": {},
   "outputs": [],
   "source": [
    "# media das filas\n",
    "media_f = df_data.mean(axis=1)\n",
    "print(media_f)"
   ]
  },
  {
   "cell_type": "code",
   "execution_count": null,
   "metadata": {},
   "outputs": [],
   "source": [
    "# caluclos usando windows = n: (n+(n-1)+(n-2)=/n) --> n=3 e mean()\n",
    "print(df_data.rolling(window=3).mean())"
   ]
  },
  {
   "cell_type": "code",
   "execution_count": null,
   "metadata": {},
   "outputs": [],
   "source": [
    "# metodos de agregação - rolling\n",
    "print(df_data)\n",
    "rol = df_data.rolling(window=3,min_periods=1)\n",
    "print(rol)"
   ]
  },
  {
   "cell_type": "code",
   "execution_count": null,
   "metadata": {},
   "outputs": [],
   "source": [
    "# aggregate todas as collunas\n",
    "print(rol.aggregate(np.sum))"
   ]
  },
  {
   "cell_type": "code",
   "execution_count": null,
   "metadata": {},
   "outputs": [],
   "source": [
    "# coluna A\n",
    "print(rol['A'].aggregate(np.sum))"
   ]
  },
  {
   "cell_type": "code",
   "execution_count": null,
   "metadata": {},
   "outputs": [],
   "source": [
    "#  aggregate multiples colunas\n",
    "print(rol[['A','B']].aggregate(np.sum))"
   ]
  },
  {
   "cell_type": "code",
   "execution_count": null,
   "metadata": {},
   "outputs": [],
   "source": [
    "# aggregate multiples funções a uma coluna\n",
    "df_group = rol['C'].aggregate([np.sum,np.mean,np.median,np.std])\n",
    "print(df_group)"
   ]
  },
  {
   "cell_type": "code",
   "execution_count": null,
   "metadata": {},
   "outputs": [],
   "source": [
    "# Split data into groups - agrupar\n",
    "club_data = {'Club': ['Flamengo', 'Inter', 'SP', 'Fluminense', 'Gremio',\n",
    "   'Flamengo', 'Flamengo', 'Inter', 'Gremio', 'Santos', 'Santos', 'Corinthians'],\n",
    "   'Rank': [1, 2, 2, 3, 3,4 ,1 ,1,2 , 4,1,2],\n",
    "   'Ano': [2014,2015,2014,2015,2014,2015,2016,2017,2016,2014,2015,2017],\n",
    "   'Pontos':[876,789,863,673,741,812,756,788,694,701,804,690]}\n",
    "df_club = pd.DataFrame(club_data)\n",
    "print(df_club)\n",
    "print()\n",
    "group_ano = df_club.groupby('Ano')    # agrupado por ano\n",
    "print('Ano:',group_ano.groups)\n",
    "print()\n",
    "ag_pontos_anos = group_ano['Pontos'].agg([np.sum, np.mean,np.var,np.std]) # ano e pontos\n",
    "print(ag_pontos_anos)"
   ]
  },
  {
   "cell_type": "markdown",
   "metadata": {},
   "source": [
    "### Manipulando bancos de dados\n",
    "> Em muitas aplicações, os dados estão armazenados em formatos ineficientes para guardar grandes volumes de dados. Os bancos de dados relacionais baseados em SQL (como SQL Server, PostgreSQL e MySQL) são amplamente usados nesses casos, e muitos bancos de dados alternativos non-SQL (chamados de NoSQL) se tornaram bastante populares. A escolha do banco de dados geralmente depende das necessidades de desempenho, integridade de dados e escalabilidade de uma aplicação.\n",
    "\n",
    "> O pandas tem algumas funções para simplificar o processo de carregar dados de SQL em um DataFrames."
   ]
  },
  {
   "cell_type": "code",
   "execution_count": null,
   "metadata": {},
   "outputs": [],
   "source": [
    "# Will use an in-memory SQLite database using Python’s built-in sqlite3 driver\n",
    "import sqlite3\n",
    "# criar a tabela fcd\n",
    "query = \"\"\"\n",
    "CREATE TABLE fcd\n",
    "(a VARCHAR(20), b VARCHAR(20), c REAL, d INTEGER);\"\"\"\n",
    "# conexao com o sqlite3\n",
    "con = sqlite3.connect(':memory:')\n",
    "con.execute(query)\n",
    "con.commit()"
   ]
  },
  {
   "cell_type": "code",
   "execution_count": null,
   "metadata": {},
   "outputs": [],
   "source": [
    "# inserir dados\n",
    "data = [('Araruama', 'Cabo frio', 12.5, 20),\n",
    "        ('Niterói', 'Nova Iguaçu', 3.6, 15),\n",
    "        ('Petropolis', 'Teresopolis', 2.0, 10)]\n",
    "# \n",
    "stmt = \"INSERT INTO fcd VALUES(?, ?, ?, ?)\"\n",
    "con.executemany(stmt, data)\n",
    "con.commit()"
   ]
  },
  {
   "cell_type": "code",
   "execution_count": null,
   "metadata": {},
   "outputs": [],
   "source": [
    "# retorna as tuplas\n",
    "cid_0 = con.execute('select * from fcd') # cursor\n",
    "filas = cid_0.fetchall()\n",
    "filas"
   ]
  },
  {
   "cell_type": "code",
   "execution_count": null,
   "metadata": {},
   "outputs": [],
   "source": [
    "# description\n",
    "des = cid_0.description\n",
    "des"
   ]
  },
  {
   "cell_type": "code",
   "execution_count": null,
   "metadata": {
    "scrolled": true
   },
   "outputs": [],
   "source": [
    "pd.DataFrame(filas, columns=list(zip(*cid_0.description))[0])"
   ]
  },
  {
   "cell_type": "code",
   "execution_count": null,
   "metadata": {
    "scrolled": true
   },
   "outputs": [],
   "source": [
    "# leitura do sql em pandas = dataframe\n",
    "import pandas.io.sql as sql\n",
    "sql0 = sql.read_sql('select * from fcd', con)\n",
    "print(sql0)"
   ]
  },
  {
   "cell_type": "markdown",
   "metadata": {},
   "source": [
    "## Visualização em Pandas"
   ]
  },
  {
   "cell_type": "code",
   "execution_count": null,
   "metadata": {},
   "outputs": [],
   "source": [
    "# gerando os valores\n",
    "df_grafico = pd.DataFrame(np.random.randn(10,5),index=pd.date_range('1/1/2020',\n",
    "   periods=10), columns=list('ABCDE'))\n",
    "df_grafico.head()"
   ]
  },
  {
   "cell_type": "code",
   "execution_count": null,
   "metadata": {},
   "outputs": [],
   "source": [
    "# visualização do dataframe completo\n",
    "df_grafico.plot();"
   ]
  },
  {
   "cell_type": "code",
   "execution_count": null,
   "metadata": {},
   "outputs": [],
   "source": [
    "# bar plot\n",
    "df_grafico.plot.bar();"
   ]
  },
  {
   "cell_type": "code",
   "execution_count": null,
   "metadata": {},
   "outputs": [],
   "source": [
    "# stacket = True\n",
    "df_grafico.plot.bar(stacked=True);"
   ]
  },
  {
   "cell_type": "code",
   "execution_count": null,
   "metadata": {},
   "outputs": [],
   "source": [
    "# horizontal\n",
    "df_grafico.plot.barh(stacked=True);"
   ]
  },
  {
   "cell_type": "code",
   "execution_count": null,
   "metadata": {},
   "outputs": [],
   "source": [
    "# histogramas\n",
    "df_grafico.plot.hist(bins=15);"
   ]
  },
  {
   "cell_type": "code",
   "execution_count": null,
   "metadata": {},
   "outputs": [],
   "source": [
    "# Box plots\n",
    "df_grafico.plot.box();"
   ]
  },
  {
   "cell_type": "code",
   "execution_count": null,
   "metadata": {},
   "outputs": [],
   "source": [
    "# Area plots (valores positivos)\n",
    "df_area = pd.DataFrame(np.random.rand(10, 5), columns=['a', 'b', 'c', 'd','e'])\n",
    "df_area.plot.area();"
   ]
  },
  {
   "cell_type": "code",
   "execution_count": null,
   "metadata": {},
   "outputs": [],
   "source": [
    "# scatter plot\n",
    "df_area.plot.scatter(x='a',y='b');"
   ]
  },
  {
   "cell_type": "code",
   "execution_count": null,
   "metadata": {},
   "outputs": [],
   "source": [
    "# Pie chart\n",
    "df_area.plot.pie(y='a',subplots=True,figsize=(5,5));"
   ]
  },
  {
   "cell_type": "code",
   "execution_count": null,
   "metadata": {},
   "outputs": [],
   "source": [
    "# subplots\n",
    "df_area.plot.pie(subplots=True,figsize=(15,10));"
   ]
  },
  {
   "cell_type": "markdown",
   "metadata": {},
   "source": [
    "## Grandes volumes de dados"
   ]
  },
  {
   "cell_type": "code",
   "execution_count": 8,
   "metadata": {},
   "outputs": [
    {
     "data": {
      "text/html": [
       "<div>\n",
       "<style scoped>\n",
       "    .dataframe tbody tr th:only-of-type {\n",
       "        vertical-align: middle;\n",
       "    }\n",
       "\n",
       "    .dataframe tbody tr th {\n",
       "        vertical-align: top;\n",
       "    }\n",
       "\n",
       "    .dataframe thead th {\n",
       "        text-align: right;\n",
       "    }\n",
       "</style>\n",
       "<table border=\"1\" class=\"dataframe\">\n",
       "  <thead>\n",
       "    <tr style=\"text-align: right;\">\n",
       "      <th></th>\n",
       "      <th>Unnamed: 0</th>\n",
       "      <th>city</th>\n",
       "      <th>city_ibge_code</th>\n",
       "      <th>date</th>\n",
       "      <th>epidemiological_week</th>\n",
       "      <th>estimated_population</th>\n",
       "      <th>estimated_population_2019</th>\n",
       "      <th>is_last</th>\n",
       "      <th>is_repeated</th>\n",
       "      <th>last_available_confirmed</th>\n",
       "      <th>last_available_confirmed_per_100k_inhabitants</th>\n",
       "      <th>last_available_date</th>\n",
       "      <th>last_available_death_rate</th>\n",
       "      <th>last_available_deaths</th>\n",
       "      <th>order_for_place</th>\n",
       "      <th>place_type</th>\n",
       "      <th>state</th>\n",
       "      <th>new_confirmed</th>\n",
       "      <th>new_deaths</th>\n",
       "    </tr>\n",
       "  </thead>\n",
       "  <tbody>\n",
       "    <tr>\n",
       "      <th>0</th>\n",
       "      <td>913776</td>\n",
       "      <td>Rio de Janeiro</td>\n",
       "      <td>3304557.0</td>\n",
       "      <td>2020-03-06</td>\n",
       "      <td>202010</td>\n",
       "      <td>6747815.0</td>\n",
       "      <td>6718903.0</td>\n",
       "      <td>False</td>\n",
       "      <td>False</td>\n",
       "      <td>1</td>\n",
       "      <td>0.01482</td>\n",
       "      <td>2020-03-06</td>\n",
       "      <td>0.0</td>\n",
       "      <td>0</td>\n",
       "      <td>1</td>\n",
       "      <td>city</td>\n",
       "      <td>RJ</td>\n",
       "      <td>1</td>\n",
       "      <td>0</td>\n",
       "    </tr>\n",
       "    <tr>\n",
       "      <th>1</th>\n",
       "      <td>913779</td>\n",
       "      <td>Rio de Janeiro</td>\n",
       "      <td>3304557.0</td>\n",
       "      <td>2020-03-07</td>\n",
       "      <td>202010</td>\n",
       "      <td>6747815.0</td>\n",
       "      <td>6718903.0</td>\n",
       "      <td>False</td>\n",
       "      <td>True</td>\n",
       "      <td>1</td>\n",
       "      <td>0.01482</td>\n",
       "      <td>2020-03-06</td>\n",
       "      <td>0.0</td>\n",
       "      <td>0</td>\n",
       "      <td>2</td>\n",
       "      <td>city</td>\n",
       "      <td>RJ</td>\n",
       "      <td>0</td>\n",
       "      <td>0</td>\n",
       "    </tr>\n",
       "    <tr>\n",
       "      <th>2</th>\n",
       "      <td>913782</td>\n",
       "      <td>Rio de Janeiro</td>\n",
       "      <td>3304557.0</td>\n",
       "      <td>2020-03-08</td>\n",
       "      <td>202011</td>\n",
       "      <td>6747815.0</td>\n",
       "      <td>6718903.0</td>\n",
       "      <td>False</td>\n",
       "      <td>False</td>\n",
       "      <td>2</td>\n",
       "      <td>0.02964</td>\n",
       "      <td>2020-03-08</td>\n",
       "      <td>0.0</td>\n",
       "      <td>0</td>\n",
       "      <td>3</td>\n",
       "      <td>city</td>\n",
       "      <td>RJ</td>\n",
       "      <td>1</td>\n",
       "      <td>0</td>\n",
       "    </tr>\n",
       "    <tr>\n",
       "      <th>3</th>\n",
       "      <td>913785</td>\n",
       "      <td>Rio de Janeiro</td>\n",
       "      <td>3304557.0</td>\n",
       "      <td>2020-03-09</td>\n",
       "      <td>202011</td>\n",
       "      <td>6747815.0</td>\n",
       "      <td>6718903.0</td>\n",
       "      <td>False</td>\n",
       "      <td>True</td>\n",
       "      <td>2</td>\n",
       "      <td>0.02964</td>\n",
       "      <td>2020-03-08</td>\n",
       "      <td>0.0</td>\n",
       "      <td>0</td>\n",
       "      <td>4</td>\n",
       "      <td>city</td>\n",
       "      <td>RJ</td>\n",
       "      <td>0</td>\n",
       "      <td>0</td>\n",
       "    </tr>\n",
       "    <tr>\n",
       "      <th>4</th>\n",
       "      <td>913788</td>\n",
       "      <td>Rio de Janeiro</td>\n",
       "      <td>3304557.0</td>\n",
       "      <td>2020-03-10</td>\n",
       "      <td>202011</td>\n",
       "      <td>6747815.0</td>\n",
       "      <td>6718903.0</td>\n",
       "      <td>False</td>\n",
       "      <td>True</td>\n",
       "      <td>2</td>\n",
       "      <td>0.02964</td>\n",
       "      <td>2020-03-08</td>\n",
       "      <td>0.0</td>\n",
       "      <td>0</td>\n",
       "      <td>5</td>\n",
       "      <td>city</td>\n",
       "      <td>RJ</td>\n",
       "      <td>0</td>\n",
       "      <td>0</td>\n",
       "    </tr>\n",
       "  </tbody>\n",
       "</table>\n",
       "</div>"
      ],
      "text/plain": [
       "   Unnamed: 0            city  city_ibge_code        date  \\\n",
       "0      913776  Rio de Janeiro       3304557.0  2020-03-06   \n",
       "1      913779  Rio de Janeiro       3304557.0  2020-03-07   \n",
       "2      913782  Rio de Janeiro       3304557.0  2020-03-08   \n",
       "3      913785  Rio de Janeiro       3304557.0  2020-03-09   \n",
       "4      913788  Rio de Janeiro       3304557.0  2020-03-10   \n",
       "\n",
       "   epidemiological_week  estimated_population  estimated_population_2019  \\\n",
       "0                202010             6747815.0                  6718903.0   \n",
       "1                202010             6747815.0                  6718903.0   \n",
       "2                202011             6747815.0                  6718903.0   \n",
       "3                202011             6747815.0                  6718903.0   \n",
       "4                202011             6747815.0                  6718903.0   \n",
       "\n",
       "   is_last  is_repeated  last_available_confirmed  \\\n",
       "0    False        False                         1   \n",
       "1    False         True                         1   \n",
       "2    False        False                         2   \n",
       "3    False         True                         2   \n",
       "4    False         True                         2   \n",
       "\n",
       "   last_available_confirmed_per_100k_inhabitants last_available_date  \\\n",
       "0                                        0.01482          2020-03-06   \n",
       "1                                        0.01482          2020-03-06   \n",
       "2                                        0.02964          2020-03-08   \n",
       "3                                        0.02964          2020-03-08   \n",
       "4                                        0.02964          2020-03-08   \n",
       "\n",
       "   last_available_death_rate  last_available_deaths  order_for_place  \\\n",
       "0                        0.0                      0                1   \n",
       "1                        0.0                      0                2   \n",
       "2                        0.0                      0                3   \n",
       "3                        0.0                      0                4   \n",
       "4                        0.0                      0                5   \n",
       "\n",
       "  place_type state  new_confirmed  new_deaths  \n",
       "0       city    RJ              1           0  \n",
       "1       city    RJ              0           0  \n",
       "2       city    RJ              1           0  \n",
       "3       city    RJ              0           0  \n",
       "4       city    RJ              0           0  "
      ]
     },
     "execution_count": 8,
     "metadata": {},
     "output_type": "execute_result"
    }
   ],
   "source": [
    "# exemplo 2: dataset - covid19-deaths\n",
    "#ctotal = pd.read_csv('data/covid-19_casos_full.csv',delimiter=',')\n",
    "ctotal = pd.read_csv('data/rio_full_casos.csv',delimiter=',')\n",
    "ctotal.head()"
   ]
  },
  {
   "cell_type": "code",
   "execution_count": 9,
   "metadata": {},
   "outputs": [
    {
     "name": "stdout",
     "output_type": "stream",
     "text": [
      "Total de Registros :>  350\n"
     ]
    }
   ],
   "source": [
    "# visualiza o total de registros\n",
    "print('Total de Registros :> ',len(ctotal))"
   ]
  },
  {
   "cell_type": "code",
   "execution_count": 4,
   "metadata": {},
   "outputs": [
    {
     "data": {
      "text/html": [
       "<div>\n",
       "<style scoped>\n",
       "    .dataframe tbody tr th:only-of-type {\n",
       "        vertical-align: middle;\n",
       "    }\n",
       "\n",
       "    .dataframe tbody tr th {\n",
       "        vertical-align: top;\n",
       "    }\n",
       "\n",
       "    .dataframe thead th {\n",
       "        text-align: right;\n",
       "    }\n",
       "</style>\n",
       "<table border=\"1\" class=\"dataframe\">\n",
       "  <thead>\n",
       "    <tr style=\"text-align: right;\">\n",
       "      <th></th>\n",
       "      <th>city</th>\n",
       "      <th>city_ibge_code</th>\n",
       "      <th>date</th>\n",
       "      <th>epidemiological_week</th>\n",
       "      <th>estimated_population</th>\n",
       "      <th>estimated_population_2019</th>\n",
       "      <th>is_last</th>\n",
       "      <th>is_repeated</th>\n",
       "      <th>last_available_confirmed</th>\n",
       "      <th>last_available_confirmed_per_100k_inhabitants</th>\n",
       "      <th>last_available_date</th>\n",
       "      <th>last_available_death_rate</th>\n",
       "      <th>last_available_deaths</th>\n",
       "      <th>order_for_place</th>\n",
       "      <th>place_type</th>\n",
       "      <th>state</th>\n",
       "      <th>new_confirmed</th>\n",
       "      <th>new_deaths</th>\n",
       "    </tr>\n",
       "  </thead>\n",
       "  <tbody>\n",
       "    <tr>\n",
       "      <th>913773</th>\n",
       "      <td>Barra Mansa</td>\n",
       "      <td>3300407.0</td>\n",
       "      <td>2020-03-05</td>\n",
       "      <td>202010</td>\n",
       "      <td>184833.0</td>\n",
       "      <td>184412.0</td>\n",
       "      <td>False</td>\n",
       "      <td>False</td>\n",
       "      <td>1</td>\n",
       "      <td>0.54103</td>\n",
       "      <td>2020-03-05</td>\n",
       "      <td>0.0000</td>\n",
       "      <td>0</td>\n",
       "      <td>1</td>\n",
       "      <td>city</td>\n",
       "      <td>RJ</td>\n",
       "      <td>1</td>\n",
       "      <td>0</td>\n",
       "    </tr>\n",
       "    <tr>\n",
       "      <th>913774</th>\n",
       "      <td>NaN</td>\n",
       "      <td>33.0</td>\n",
       "      <td>2020-03-05</td>\n",
       "      <td>202010</td>\n",
       "      <td>17366189.0</td>\n",
       "      <td>17264943.0</td>\n",
       "      <td>False</td>\n",
       "      <td>False</td>\n",
       "      <td>1</td>\n",
       "      <td>0.00576</td>\n",
       "      <td>2020-03-05</td>\n",
       "      <td>0.0000</td>\n",
       "      <td>0</td>\n",
       "      <td>1</td>\n",
       "      <td>state</td>\n",
       "      <td>RJ</td>\n",
       "      <td>1</td>\n",
       "      <td>0</td>\n",
       "    </tr>\n",
       "    <tr>\n",
       "      <th>913775</th>\n",
       "      <td>Barra Mansa</td>\n",
       "      <td>3300407.0</td>\n",
       "      <td>2020-03-06</td>\n",
       "      <td>202010</td>\n",
       "      <td>184833.0</td>\n",
       "      <td>184412.0</td>\n",
       "      <td>False</td>\n",
       "      <td>False</td>\n",
       "      <td>1</td>\n",
       "      <td>0.54103</td>\n",
       "      <td>2020-03-06</td>\n",
       "      <td>0.0000</td>\n",
       "      <td>0</td>\n",
       "      <td>2</td>\n",
       "      <td>city</td>\n",
       "      <td>RJ</td>\n",
       "      <td>0</td>\n",
       "      <td>0</td>\n",
       "    </tr>\n",
       "    <tr>\n",
       "      <th>913776</th>\n",
       "      <td>Rio de Janeiro</td>\n",
       "      <td>3304557.0</td>\n",
       "      <td>2020-03-06</td>\n",
       "      <td>202010</td>\n",
       "      <td>6747815.0</td>\n",
       "      <td>6718903.0</td>\n",
       "      <td>False</td>\n",
       "      <td>False</td>\n",
       "      <td>1</td>\n",
       "      <td>0.01482</td>\n",
       "      <td>2020-03-06</td>\n",
       "      <td>0.0000</td>\n",
       "      <td>0</td>\n",
       "      <td>1</td>\n",
       "      <td>city</td>\n",
       "      <td>RJ</td>\n",
       "      <td>1</td>\n",
       "      <td>0</td>\n",
       "    </tr>\n",
       "    <tr>\n",
       "      <th>913777</th>\n",
       "      <td>NaN</td>\n",
       "      <td>33.0</td>\n",
       "      <td>2020-03-06</td>\n",
       "      <td>202010</td>\n",
       "      <td>17366189.0</td>\n",
       "      <td>17264943.0</td>\n",
       "      <td>False</td>\n",
       "      <td>False</td>\n",
       "      <td>2</td>\n",
       "      <td>0.01152</td>\n",
       "      <td>2020-03-06</td>\n",
       "      <td>0.0000</td>\n",
       "      <td>0</td>\n",
       "      <td>2</td>\n",
       "      <td>state</td>\n",
       "      <td>RJ</td>\n",
       "      <td>1</td>\n",
       "      <td>0</td>\n",
       "    </tr>\n",
       "    <tr>\n",
       "      <th>...</th>\n",
       "      <td>...</td>\n",
       "      <td>...</td>\n",
       "      <td>...</td>\n",
       "      <td>...</td>\n",
       "      <td>...</td>\n",
       "      <td>...</td>\n",
       "      <td>...</td>\n",
       "      <td>...</td>\n",
       "      <td>...</td>\n",
       "      <td>...</td>\n",
       "      <td>...</td>\n",
       "      <td>...</td>\n",
       "      <td>...</td>\n",
       "      <td>...</td>\n",
       "      <td>...</td>\n",
       "      <td>...</td>\n",
       "      <td>...</td>\n",
       "      <td>...</td>\n",
       "    </tr>\n",
       "    <tr>\n",
       "      <th>943432</th>\n",
       "      <td>Valença</td>\n",
       "      <td>3306107.0</td>\n",
       "      <td>2021-02-18</td>\n",
       "      <td>202107</td>\n",
       "      <td>76869.0</td>\n",
       "      <td>76523.0</td>\n",
       "      <td>False</td>\n",
       "      <td>True</td>\n",
       "      <td>2017</td>\n",
       "      <td>2623.94463</td>\n",
       "      <td>2021-02-17</td>\n",
       "      <td>0.0243</td>\n",
       "      <td>49</td>\n",
       "      <td>331</td>\n",
       "      <td>city</td>\n",
       "      <td>RJ</td>\n",
       "      <td>0</td>\n",
       "      <td>0</td>\n",
       "    </tr>\n",
       "    <tr>\n",
       "      <th>943433</th>\n",
       "      <td>Varre-Sai</td>\n",
       "      <td>3306156.0</td>\n",
       "      <td>2021-02-18</td>\n",
       "      <td>202107</td>\n",
       "      <td>11106.0</td>\n",
       "      <td>11000.0</td>\n",
       "      <td>False</td>\n",
       "      <td>True</td>\n",
       "      <td>1529</td>\n",
       "      <td>13767.33297</td>\n",
       "      <td>2021-02-17</td>\n",
       "      <td>0.0033</td>\n",
       "      <td>5</td>\n",
       "      <td>277</td>\n",
       "      <td>city</td>\n",
       "      <td>RJ</td>\n",
       "      <td>0</td>\n",
       "      <td>0</td>\n",
       "    </tr>\n",
       "    <tr>\n",
       "      <th>943434</th>\n",
       "      <td>Vassouras</td>\n",
       "      <td>3306206.0</td>\n",
       "      <td>2021-02-18</td>\n",
       "      <td>202107</td>\n",
       "      <td>37083.0</td>\n",
       "      <td>36896.0</td>\n",
       "      <td>False</td>\n",
       "      <td>True</td>\n",
       "      <td>1422</td>\n",
       "      <td>3834.64121</td>\n",
       "      <td>2021-02-17</td>\n",
       "      <td>0.0204</td>\n",
       "      <td>29</td>\n",
       "      <td>302</td>\n",
       "      <td>city</td>\n",
       "      <td>RJ</td>\n",
       "      <td>0</td>\n",
       "      <td>0</td>\n",
       "    </tr>\n",
       "    <tr>\n",
       "      <th>943435</th>\n",
       "      <td>Volta Redonda</td>\n",
       "      <td>3306305.0</td>\n",
       "      <td>2021-02-18</td>\n",
       "      <td>202107</td>\n",
       "      <td>273988.0</td>\n",
       "      <td>273012.0</td>\n",
       "      <td>False</td>\n",
       "      <td>True</td>\n",
       "      <td>18489</td>\n",
       "      <td>6748.10576</td>\n",
       "      <td>2021-02-17</td>\n",
       "      <td>0.0244</td>\n",
       "      <td>451</td>\n",
       "      <td>332</td>\n",
       "      <td>city</td>\n",
       "      <td>RJ</td>\n",
       "      <td>0</td>\n",
       "      <td>0</td>\n",
       "    </tr>\n",
       "    <tr>\n",
       "      <th>943436</th>\n",
       "      <td>NaN</td>\n",
       "      <td>33.0</td>\n",
       "      <td>2021-02-18</td>\n",
       "      <td>202107</td>\n",
       "      <td>17366189.0</td>\n",
       "      <td>17264943.0</td>\n",
       "      <td>True</td>\n",
       "      <td>False</td>\n",
       "      <td>566928</td>\n",
       "      <td>3264.55044</td>\n",
       "      <td>2021-02-18</td>\n",
       "      <td>0.0562</td>\n",
       "      <td>31882</td>\n",
       "      <td>351</td>\n",
       "      <td>state</td>\n",
       "      <td>RJ</td>\n",
       "      <td>2415</td>\n",
       "      <td>181</td>\n",
       "    </tr>\n",
       "  </tbody>\n",
       "</table>\n",
       "<p>29664 rows × 18 columns</p>\n",
       "</div>"
      ],
      "text/plain": [
       "                  city  city_ibge_code        date  epidemiological_week  \\\n",
       "913773     Barra Mansa       3300407.0  2020-03-05                202010   \n",
       "913774             NaN            33.0  2020-03-05                202010   \n",
       "913775     Barra Mansa       3300407.0  2020-03-06                202010   \n",
       "913776  Rio de Janeiro       3304557.0  2020-03-06                202010   \n",
       "913777             NaN            33.0  2020-03-06                202010   \n",
       "...                ...             ...         ...                   ...   \n",
       "943432         Valença       3306107.0  2021-02-18                202107   \n",
       "943433       Varre-Sai       3306156.0  2021-02-18                202107   \n",
       "943434       Vassouras       3306206.0  2021-02-18                202107   \n",
       "943435   Volta Redonda       3306305.0  2021-02-18                202107   \n",
       "943436             NaN            33.0  2021-02-18                202107   \n",
       "\n",
       "        estimated_population  estimated_population_2019  is_last  is_repeated  \\\n",
       "913773              184833.0                   184412.0    False        False   \n",
       "913774            17366189.0                 17264943.0    False        False   \n",
       "913775              184833.0                   184412.0    False        False   \n",
       "913776             6747815.0                  6718903.0    False        False   \n",
       "913777            17366189.0                 17264943.0    False        False   \n",
       "...                      ...                        ...      ...          ...   \n",
       "943432               76869.0                    76523.0    False         True   \n",
       "943433               11106.0                    11000.0    False         True   \n",
       "943434               37083.0                    36896.0    False         True   \n",
       "943435              273988.0                   273012.0    False         True   \n",
       "943436            17366189.0                 17264943.0     True        False   \n",
       "\n",
       "        last_available_confirmed  \\\n",
       "913773                         1   \n",
       "913774                         1   \n",
       "913775                         1   \n",
       "913776                         1   \n",
       "913777                         2   \n",
       "...                          ...   \n",
       "943432                      2017   \n",
       "943433                      1529   \n",
       "943434                      1422   \n",
       "943435                     18489   \n",
       "943436                    566928   \n",
       "\n",
       "        last_available_confirmed_per_100k_inhabitants last_available_date  \\\n",
       "913773                                        0.54103          2020-03-05   \n",
       "913774                                        0.00576          2020-03-05   \n",
       "913775                                        0.54103          2020-03-06   \n",
       "913776                                        0.01482          2020-03-06   \n",
       "913777                                        0.01152          2020-03-06   \n",
       "...                                               ...                 ...   \n",
       "943432                                     2623.94463          2021-02-17   \n",
       "943433                                    13767.33297          2021-02-17   \n",
       "943434                                     3834.64121          2021-02-17   \n",
       "943435                                     6748.10576          2021-02-17   \n",
       "943436                                     3264.55044          2021-02-18   \n",
       "\n",
       "        last_available_death_rate  last_available_deaths  order_for_place  \\\n",
       "913773                     0.0000                      0                1   \n",
       "913774                     0.0000                      0                1   \n",
       "913775                     0.0000                      0                2   \n",
       "913776                     0.0000                      0                1   \n",
       "913777                     0.0000                      0                2   \n",
       "...                           ...                    ...              ...   \n",
       "943432                     0.0243                     49              331   \n",
       "943433                     0.0033                      5              277   \n",
       "943434                     0.0204                     29              302   \n",
       "943435                     0.0244                    451              332   \n",
       "943436                     0.0562                  31882              351   \n",
       "\n",
       "       place_type state  new_confirmed  new_deaths  \n",
       "913773       city    RJ              1           0  \n",
       "913774      state    RJ              1           0  \n",
       "913775       city    RJ              0           0  \n",
       "913776       city    RJ              1           0  \n",
       "913777      state    RJ              1           0  \n",
       "...           ...   ...            ...         ...  \n",
       "943432       city    RJ              0           0  \n",
       "943433       city    RJ              0           0  \n",
       "943434       city    RJ              0           0  \n",
       "943435       city    RJ              0           0  \n",
       "943436      state    RJ           2415         181  \n",
       "\n",
       "[29664 rows x 18 columns]"
      ]
     },
     "execution_count": 4,
     "metadata": {},
     "output_type": "execute_result"
    }
   ],
   "source": [
    "estado_rj = ctotal[ctotal['state']=='RJ']\n",
    "estado_rj"
   ]
  },
  {
   "cell_type": "code",
   "execution_count": 7,
   "metadata": {},
   "outputs": [],
   "source": [
    "# split para rio de janeiro\n",
    "#casos_rj = pd.DataFrame(estado_rj[estado_rj['city'] == 'Rio de Janeiro'])\n",
    "#casos_rj.to_csv('data/rio_full_casos.csv')"
   ]
  },
  {
   "cell_type": "code",
   "execution_count": 10,
   "metadata": {},
   "outputs": [
    {
     "data": {
      "text/html": [
       "<div>\n",
       "<style scoped>\n",
       "    .dataframe tbody tr th:only-of-type {\n",
       "        vertical-align: middle;\n",
       "    }\n",
       "\n",
       "    .dataframe tbody tr th {\n",
       "        vertical-align: top;\n",
       "    }\n",
       "\n",
       "    .dataframe thead th {\n",
       "        text-align: right;\n",
       "    }\n",
       "</style>\n",
       "<table border=\"1\" class=\"dataframe\">\n",
       "  <thead>\n",
       "    <tr style=\"text-align: right;\">\n",
       "      <th></th>\n",
       "      <th>city</th>\n",
       "      <th>city_ibge_code</th>\n",
       "      <th>date</th>\n",
       "      <th>epidemiological_week</th>\n",
       "      <th>estimated_population</th>\n",
       "      <th>estimated_population_2019</th>\n",
       "      <th>is_last</th>\n",
       "      <th>is_repeated</th>\n",
       "      <th>last_available_confirmed</th>\n",
       "      <th>last_available_confirmed_per_100k_inhabitants</th>\n",
       "      <th>last_available_date</th>\n",
       "      <th>last_available_death_rate</th>\n",
       "      <th>last_available_deaths</th>\n",
       "      <th>order_for_place</th>\n",
       "      <th>place_type</th>\n",
       "      <th>state</th>\n",
       "      <th>new_confirmed</th>\n",
       "      <th>new_deaths</th>\n",
       "    </tr>\n",
       "  </thead>\n",
       "  <tbody>\n",
       "    <tr>\n",
       "      <th>913776</th>\n",
       "      <td>Rio de Janeiro</td>\n",
       "      <td>3304557.0</td>\n",
       "      <td>2020-03-06</td>\n",
       "      <td>202010</td>\n",
       "      <td>6747815.0</td>\n",
       "      <td>6718903.0</td>\n",
       "      <td>False</td>\n",
       "      <td>False</td>\n",
       "      <td>1</td>\n",
       "      <td>0.01482</td>\n",
       "      <td>2020-03-06</td>\n",
       "      <td>0.0000</td>\n",
       "      <td>0</td>\n",
       "      <td>1</td>\n",
       "      <td>city</td>\n",
       "      <td>RJ</td>\n",
       "      <td>1</td>\n",
       "      <td>0</td>\n",
       "    </tr>\n",
       "    <tr>\n",
       "      <th>913779</th>\n",
       "      <td>Rio de Janeiro</td>\n",
       "      <td>3304557.0</td>\n",
       "      <td>2020-03-07</td>\n",
       "      <td>202010</td>\n",
       "      <td>6747815.0</td>\n",
       "      <td>6718903.0</td>\n",
       "      <td>False</td>\n",
       "      <td>True</td>\n",
       "      <td>1</td>\n",
       "      <td>0.01482</td>\n",
       "      <td>2020-03-06</td>\n",
       "      <td>0.0000</td>\n",
       "      <td>0</td>\n",
       "      <td>2</td>\n",
       "      <td>city</td>\n",
       "      <td>RJ</td>\n",
       "      <td>0</td>\n",
       "      <td>0</td>\n",
       "    </tr>\n",
       "    <tr>\n",
       "      <th>913782</th>\n",
       "      <td>Rio de Janeiro</td>\n",
       "      <td>3304557.0</td>\n",
       "      <td>2020-03-08</td>\n",
       "      <td>202011</td>\n",
       "      <td>6747815.0</td>\n",
       "      <td>6718903.0</td>\n",
       "      <td>False</td>\n",
       "      <td>False</td>\n",
       "      <td>2</td>\n",
       "      <td>0.02964</td>\n",
       "      <td>2020-03-08</td>\n",
       "      <td>0.0000</td>\n",
       "      <td>0</td>\n",
       "      <td>3</td>\n",
       "      <td>city</td>\n",
       "      <td>RJ</td>\n",
       "      <td>1</td>\n",
       "      <td>0</td>\n",
       "    </tr>\n",
       "    <tr>\n",
       "      <th>913785</th>\n",
       "      <td>Rio de Janeiro</td>\n",
       "      <td>3304557.0</td>\n",
       "      <td>2020-03-09</td>\n",
       "      <td>202011</td>\n",
       "      <td>6747815.0</td>\n",
       "      <td>6718903.0</td>\n",
       "      <td>False</td>\n",
       "      <td>True</td>\n",
       "      <td>2</td>\n",
       "      <td>0.02964</td>\n",
       "      <td>2020-03-08</td>\n",
       "      <td>0.0000</td>\n",
       "      <td>0</td>\n",
       "      <td>4</td>\n",
       "      <td>city</td>\n",
       "      <td>RJ</td>\n",
       "      <td>0</td>\n",
       "      <td>0</td>\n",
       "    </tr>\n",
       "    <tr>\n",
       "      <th>913788</th>\n",
       "      <td>Rio de Janeiro</td>\n",
       "      <td>3304557.0</td>\n",
       "      <td>2020-03-10</td>\n",
       "      <td>202011</td>\n",
       "      <td>6747815.0</td>\n",
       "      <td>6718903.0</td>\n",
       "      <td>False</td>\n",
       "      <td>True</td>\n",
       "      <td>2</td>\n",
       "      <td>0.02964</td>\n",
       "      <td>2020-03-08</td>\n",
       "      <td>0.0000</td>\n",
       "      <td>0</td>\n",
       "      <td>5</td>\n",
       "      <td>city</td>\n",
       "      <td>RJ</td>\n",
       "      <td>0</td>\n",
       "      <td>0</td>\n",
       "    </tr>\n",
       "    <tr>\n",
       "      <th>...</th>\n",
       "      <td>...</td>\n",
       "      <td>...</td>\n",
       "      <td>...</td>\n",
       "      <td>...</td>\n",
       "      <td>...</td>\n",
       "      <td>...</td>\n",
       "      <td>...</td>\n",
       "      <td>...</td>\n",
       "      <td>...</td>\n",
       "      <td>...</td>\n",
       "      <td>...</td>\n",
       "      <td>...</td>\n",
       "      <td>...</td>\n",
       "      <td>...</td>\n",
       "      <td>...</td>\n",
       "      <td>...</td>\n",
       "      <td>...</td>\n",
       "      <td>...</td>\n",
       "    </tr>\n",
       "    <tr>\n",
       "      <th>943035</th>\n",
       "      <td>Rio de Janeiro</td>\n",
       "      <td>3304557.0</td>\n",
       "      <td>2021-02-14</td>\n",
       "      <td>202107</td>\n",
       "      <td>6747815.0</td>\n",
       "      <td>6718903.0</td>\n",
       "      <td>False</td>\n",
       "      <td>False</td>\n",
       "      <td>195383</td>\n",
       "      <td>2895.50025</td>\n",
       "      <td>2021-02-14</td>\n",
       "      <td>0.0921</td>\n",
       "      <td>17996</td>\n",
       "      <td>346</td>\n",
       "      <td>city</td>\n",
       "      <td>RJ</td>\n",
       "      <td>75</td>\n",
       "      <td>29</td>\n",
       "    </tr>\n",
       "    <tr>\n",
       "      <th>943129</th>\n",
       "      <td>Rio de Janeiro</td>\n",
       "      <td>3304557.0</td>\n",
       "      <td>2021-02-15</td>\n",
       "      <td>202107</td>\n",
       "      <td>6747815.0</td>\n",
       "      <td>6718903.0</td>\n",
       "      <td>False</td>\n",
       "      <td>False</td>\n",
       "      <td>195419</td>\n",
       "      <td>2896.03375</td>\n",
       "      <td>2021-02-15</td>\n",
       "      <td>0.0922</td>\n",
       "      <td>18016</td>\n",
       "      <td>347</td>\n",
       "      <td>city</td>\n",
       "      <td>RJ</td>\n",
       "      <td>36</td>\n",
       "      <td>20</td>\n",
       "    </tr>\n",
       "    <tr>\n",
       "      <th>943223</th>\n",
       "      <td>Rio de Janeiro</td>\n",
       "      <td>3304557.0</td>\n",
       "      <td>2021-02-16</td>\n",
       "      <td>202107</td>\n",
       "      <td>6747815.0</td>\n",
       "      <td>6718903.0</td>\n",
       "      <td>False</td>\n",
       "      <td>False</td>\n",
       "      <td>203011</td>\n",
       "      <td>3008.54425</td>\n",
       "      <td>2021-02-16</td>\n",
       "      <td>0.0893</td>\n",
       "      <td>18121</td>\n",
       "      <td>348</td>\n",
       "      <td>city</td>\n",
       "      <td>RJ</td>\n",
       "      <td>7592</td>\n",
       "      <td>105</td>\n",
       "    </tr>\n",
       "    <tr>\n",
       "      <th>943317</th>\n",
       "      <td>Rio de Janeiro</td>\n",
       "      <td>3304557.0</td>\n",
       "      <td>2021-02-17</td>\n",
       "      <td>202107</td>\n",
       "      <td>6747815.0</td>\n",
       "      <td>6718903.0</td>\n",
       "      <td>True</td>\n",
       "      <td>False</td>\n",
       "      <td>203133</td>\n",
       "      <td>3010.35224</td>\n",
       "      <td>2021-02-17</td>\n",
       "      <td>0.0895</td>\n",
       "      <td>18172</td>\n",
       "      <td>349</td>\n",
       "      <td>city</td>\n",
       "      <td>RJ</td>\n",
       "      <td>122</td>\n",
       "      <td>51</td>\n",
       "    </tr>\n",
       "    <tr>\n",
       "      <th>943411</th>\n",
       "      <td>Rio de Janeiro</td>\n",
       "      <td>3304557.0</td>\n",
       "      <td>2021-02-18</td>\n",
       "      <td>202107</td>\n",
       "      <td>6747815.0</td>\n",
       "      <td>6718903.0</td>\n",
       "      <td>False</td>\n",
       "      <td>True</td>\n",
       "      <td>203133</td>\n",
       "      <td>3010.35224</td>\n",
       "      <td>2021-02-17</td>\n",
       "      <td>0.0895</td>\n",
       "      <td>18172</td>\n",
       "      <td>350</td>\n",
       "      <td>city</td>\n",
       "      <td>RJ</td>\n",
       "      <td>0</td>\n",
       "      <td>0</td>\n",
       "    </tr>\n",
       "  </tbody>\n",
       "</table>\n",
       "<p>350 rows × 18 columns</p>\n",
       "</div>"
      ],
      "text/plain": [
       "                  city  city_ibge_code        date  epidemiological_week  \\\n",
       "913776  Rio de Janeiro       3304557.0  2020-03-06                202010   \n",
       "913779  Rio de Janeiro       3304557.0  2020-03-07                202010   \n",
       "913782  Rio de Janeiro       3304557.0  2020-03-08                202011   \n",
       "913785  Rio de Janeiro       3304557.0  2020-03-09                202011   \n",
       "913788  Rio de Janeiro       3304557.0  2020-03-10                202011   \n",
       "...                ...             ...         ...                   ...   \n",
       "943035  Rio de Janeiro       3304557.0  2021-02-14                202107   \n",
       "943129  Rio de Janeiro       3304557.0  2021-02-15                202107   \n",
       "943223  Rio de Janeiro       3304557.0  2021-02-16                202107   \n",
       "943317  Rio de Janeiro       3304557.0  2021-02-17                202107   \n",
       "943411  Rio de Janeiro       3304557.0  2021-02-18                202107   \n",
       "\n",
       "        estimated_population  estimated_population_2019  is_last  is_repeated  \\\n",
       "913776             6747815.0                  6718903.0    False        False   \n",
       "913779             6747815.0                  6718903.0    False         True   \n",
       "913782             6747815.0                  6718903.0    False        False   \n",
       "913785             6747815.0                  6718903.0    False         True   \n",
       "913788             6747815.0                  6718903.0    False         True   \n",
       "...                      ...                        ...      ...          ...   \n",
       "943035             6747815.0                  6718903.0    False        False   \n",
       "943129             6747815.0                  6718903.0    False        False   \n",
       "943223             6747815.0                  6718903.0    False        False   \n",
       "943317             6747815.0                  6718903.0     True        False   \n",
       "943411             6747815.0                  6718903.0    False         True   \n",
       "\n",
       "        last_available_confirmed  \\\n",
       "913776                         1   \n",
       "913779                         1   \n",
       "913782                         2   \n",
       "913785                         2   \n",
       "913788                         2   \n",
       "...                          ...   \n",
       "943035                    195383   \n",
       "943129                    195419   \n",
       "943223                    203011   \n",
       "943317                    203133   \n",
       "943411                    203133   \n",
       "\n",
       "        last_available_confirmed_per_100k_inhabitants last_available_date  \\\n",
       "913776                                        0.01482          2020-03-06   \n",
       "913779                                        0.01482          2020-03-06   \n",
       "913782                                        0.02964          2020-03-08   \n",
       "913785                                        0.02964          2020-03-08   \n",
       "913788                                        0.02964          2020-03-08   \n",
       "...                                               ...                 ...   \n",
       "943035                                     2895.50025          2021-02-14   \n",
       "943129                                     2896.03375          2021-02-15   \n",
       "943223                                     3008.54425          2021-02-16   \n",
       "943317                                     3010.35224          2021-02-17   \n",
       "943411                                     3010.35224          2021-02-17   \n",
       "\n",
       "        last_available_death_rate  last_available_deaths  order_for_place  \\\n",
       "913776                     0.0000                      0                1   \n",
       "913779                     0.0000                      0                2   \n",
       "913782                     0.0000                      0                3   \n",
       "913785                     0.0000                      0                4   \n",
       "913788                     0.0000                      0                5   \n",
       "...                           ...                    ...              ...   \n",
       "943035                     0.0921                  17996              346   \n",
       "943129                     0.0922                  18016              347   \n",
       "943223                     0.0893                  18121              348   \n",
       "943317                     0.0895                  18172              349   \n",
       "943411                     0.0895                  18172              350   \n",
       "\n",
       "       place_type state  new_confirmed  new_deaths  \n",
       "913776       city    RJ              1           0  \n",
       "913779       city    RJ              0           0  \n",
       "913782       city    RJ              1           0  \n",
       "913785       city    RJ              0           0  \n",
       "913788       city    RJ              0           0  \n",
       "...           ...   ...            ...         ...  \n",
       "943035       city    RJ             75          29  \n",
       "943129       city    RJ             36          20  \n",
       "943223       city    RJ           7592         105  \n",
       "943317       city    RJ            122          51  \n",
       "943411       city    RJ              0           0  \n",
       "\n",
       "[350 rows x 18 columns]"
      ]
     },
     "execution_count": 10,
     "metadata": {},
     "output_type": "execute_result"
    }
   ],
   "source": [
    "cidade_rj = estado_rj[estado_rj['city'] == 'Rio de Janeiro']\n",
    "cidade_rj"
   ]
  },
  {
   "cell_type": "code",
   "execution_count": 11,
   "metadata": {},
   "outputs": [],
   "source": [
    "# valores para o grafico\n",
    "y = cidade_rj['new_deaths']\n",
    "y1 = cidade_rj['new_confirmed']\n",
    "#print(len(y))\n",
    "x = np.arange(0,350)\n",
    "#print(len(x))"
   ]
  },
  {
   "cell_type": "code",
   "execution_count": 12,
   "metadata": {},
   "outputs": [
    {
     "data": {
      "image/png": "[encoded data removed]",
      "text/plain": [
       "<Figure size 720x360 with 1 Axes>"
      ]
     },
     "metadata": {
      "needs_background": "light"
     },
     "output_type": "display_data"
    }
   ],
   "source": [
    "import matplotlib.pyplot as plt\n",
    "#\n",
    "fig, cov = plt.subplots(nrows=1, figsize=(10, 5))\n",
    "cov.plot(x,y,'r',linewidth=1.5, label='Mortos')\n",
    "cov.plot(x,y1,'b',linewidth=1.5, label='Casos confirmados')\n",
    "cov.legend()\n",
    "cov.grid()\n",
    "plt.title('Covid-19 - 18/02/2021')\n",
    "plt.xlabel('Rio de Janeiro')\n",
    "plt.ylabel('Total');\n",
    "# gravando a figura\n",
    "#fig.savefig('images/conf-mor.png')"
   ]
  },
  {
   "cell_type": "markdown",
   "metadata": {},
   "source": [
    "**Exercicios**:\n",
    "1. Mostre os valores e colunas dos datasets (data, populaçao estimada, confirmados e mortos)\n",
    "2. Construa mini datasets usando os estados como fator de corte.\n",
    "3. Apresente os gráficos dos mini datasets (use as colunas adequadas)."
   ]
  },
  {
   "cell_type": "markdown",
   "metadata": {},
   "source": [
    "---\n",
    "####  Fudamentos para Ciêcia de Dados &copy; Copyright 2021, Sergio Serra & Jorge Zavaleta"
   ]
  }
 ],
 "metadata": {
  "kernelspec": {
   "display_name": "Python 3 (ipykernel)",
   "language": "python",
   "name": "python3"
  },
  "language_info": {
   "codemirror_mode": {
    "name": "ipython",
    "version": 3
   },
   "file_extension": ".py",
   "mimetype": "text/x-python",
   "name": "python",
   "nbconvert_exporter": "python",
   "pygments_lexer": "ipython3",
   "version": "3.8.13"
  }
 },
 "nbformat": 4,
 "nbformat_minor": 4
}
