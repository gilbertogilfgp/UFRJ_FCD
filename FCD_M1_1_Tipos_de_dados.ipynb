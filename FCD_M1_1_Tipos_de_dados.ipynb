{
 "cells": [
  {
   "cell_type": "markdown",
   "metadata": {},
   "source": [
    "![PPGI_UFRJ](imagens/ppgi-ufrj.png)\n",
    "# Fundamentos de Ciencia de Dados"
   ]
  },
  {
   "cell_type": "markdown",
   "metadata": {},
   "source": [
    "---\n",
    "# PPGI/UFRJ 2020.3, 2022.2\n",
    "## Prof Sergio Serra e Jorge Zavaleta"
   ]
  },
  {
   "cell_type": "markdown",
   "metadata": {},
   "source": [
    "---\n",
    "# Módulo 1 - Python"
   ]
  },
  {
   "cell_type": "markdown",
   "metadata": {},
   "source": [
    "## Tipos de Dados em Python\n"
   ]
  },
  {
   "cell_type": "markdown",
   "metadata": {},
   "source": [
    "Um programa python é denominado de **script** e é uma sequencia de definições e comandos. As definições são avaliadas e os comandos são executados pelo interpretador python, chamando de **shell**."
   ]
  },
  {
   "cell_type": "markdown",
   "metadata": {},
   "source": [
    "**Objetos** são os elementos fundamentais que a linguagem manipula. Cada objeto tem um **tipo** que define a variedade de manipulações (operações) que o programa pode fazer com este objeto.\n",
    "\n",
    "Os tipos podem ser de duas classes: **Escalares** e **não escalares**\n",
    "\n",
    "- **Escalares**: Objetos indivisiveis ou atómicos.\n",
    "    1. **int** representa números inteiros.\n",
    "    2. **float** representa números reais.\n",
    "    3. **bool** usada para representar valores booleanos True e False.\n",
    "    \n",
    "    \n",
    "- **Não escalares**: Objetos que têm uma estrutura interna, por exemplo, **strings**"
   ]
  },
  {
   "cell_type": "markdown",
   "metadata": {},
   "source": [
    "Uma **Expressões** é a combinação de objetos e operadores. Uma expressão retorna um **valor** de algum **tipo**."
   ]
  },
  {
   "cell_type": "markdown",
   "metadata": {},
   "source": [
    "**Operadores matemáticos e de comparação**:"
   ]
  },
  {
   "cell_type": "code",
   "execution_count": 1,
   "metadata": {},
   "outputs": [
    {
     "data": {
      "text/plain": [
       "14"
      ]
     },
     "execution_count": 1,
     "metadata": {},
     "output_type": "execute_result"
    }
   ],
   "source": [
    "# soma: +\n",
    "10 + 4"
   ]
  },
  {
   "cell_type": "code",
   "execution_count": null,
   "metadata": {},
   "outputs": [],
   "source": [
    "# subtração: -\n",
    "10 - 4"
   ]
  },
  {
   "cell_type": "code",
   "execution_count": null,
   "metadata": {},
   "outputs": [],
   "source": [
    "# multiplicacao\n",
    "10*4"
   ]
  },
  {
   "cell_type": "code",
   "execution_count": 3,
   "metadata": {},
   "outputs": [
    {
     "data": {
      "text/plain": [
       "2.5"
      ]
     },
     "execution_count": 3,
     "metadata": {},
     "output_type": "execute_result"
    }
   ],
   "source": [
    "# divisao\n",
    "10/4"
   ]
  },
  {
   "cell_type": "code",
   "execution_count": 2,
   "metadata": {},
   "outputs": [
    {
     "data": {
      "text/plain": [
       "2"
      ]
     },
     "execution_count": 2,
     "metadata": {},
     "output_type": "execute_result"
    }
   ],
   "source": [
    "# divisao inteira \n",
    "10//4"
   ]
  },
  {
   "cell_type": "code",
   "execution_count": null,
   "metadata": {},
   "outputs": [],
   "source": [
    "# resto da divisao\n",
    "10%4"
   ]
  },
  {
   "cell_type": "code",
   "execution_count": 4,
   "metadata": {},
   "outputs": [
    {
     "data": {
      "text/plain": [
       "10000"
      ]
     },
     "execution_count": 4,
     "metadata": {},
     "output_type": "execute_result"
    }
   ],
   "source": [
    "# potencia de um numero\n",
    "10**4"
   ]
  },
  {
   "cell_type": "code",
   "execution_count": null,
   "metadata": {},
   "outputs": [],
   "source": [
    "# comparacao: >\n",
    "10 >4"
   ]
  },
  {
   "cell_type": "code",
   "execution_count": null,
   "metadata": {},
   "outputs": [],
   "source": [
    "# comparacao: <, >, <=, >=, != \n",
    "10 < 4"
   ]
  },
  {
   "cell_type": "code",
   "execution_count": null,
   "metadata": {},
   "outputs": [],
   "source": [
    "10 != 4"
   ]
  },
  {
   "cell_type": "code",
   "execution_count": 5,
   "metadata": {},
   "outputs": [
    {
     "name": "stdout",
     "output_type": "stream",
     "text": [
      "<class 'float'>\n",
      "<class 'int'>\n",
      "<class 'str'>\n"
     ]
    }
   ],
   "source": [
    "# como saber o tipo da expressao\n",
    "print(type(10.3))\n",
    "print(type(3))\n",
    "print(type('s'))"
   ]
  },
  {
   "cell_type": "markdown",
   "metadata": {},
   "source": [
    "**Operadores booleanos**\n",
    "- **a and b**: True, se a e b são verdadeiros e False nos outros casos.\n",
    "- **a or b**: True, se a e b são True ou algum valor de a ou b são verdadeiros, nos outros casos False.\n",
    "- **not a**: True se for False e False de for True."
   ]
  },
  {
   "cell_type": "markdown",
   "metadata": {},
   "source": [
    "### Python como máquina de Calcular"
   ]
  },
  {
   "cell_type": "code",
   "execution_count": 6,
   "metadata": {},
   "outputs": [
    {
     "data": {
      "text/plain": [
       "11"
      ]
     },
     "execution_count": 6,
     "metadata": {},
     "output_type": "execute_result"
    }
   ],
   "source": [
    "# soma de numeros\n",
    "7 + 4"
   ]
  },
  {
   "cell_type": "code",
   "execution_count": null,
   "metadata": {},
   "outputs": [],
   "source": [
    "# multiplicacao de numeros\n",
    "10 * 5"
   ]
  },
  {
   "cell_type": "code",
   "execution_count": null,
   "metadata": {},
   "outputs": [],
   "source": [
    "# divisao\n",
    "10/5"
   ]
  },
  {
   "cell_type": "code",
   "execution_count": null,
   "metadata": {},
   "outputs": [],
   "source": [
    "# resto de divisao\n",
    "10 % 2"
   ]
  },
  {
   "cell_type": "code",
   "execution_count": 7,
   "metadata": {},
   "outputs": [
    {
     "data": {
      "text/plain": [
       "'Curso de  Data Science'"
      ]
     },
     "execution_count": 7,
     "metadata": {},
     "output_type": "execute_result"
    }
   ],
   "source": [
    "# string\n",
    "'Curso' + ' de '+' Data Science'"
   ]
  },
  {
   "cell_type": "code",
   "execution_count": 8,
   "metadata": {},
   "outputs": [
    {
     "data": {
      "text/plain": [
       "' curso  curso  curso  curso  curso  curso  curso  curso  curso  curso '"
      ]
     },
     "execution_count": 8,
     "metadata": {},
     "output_type": "execute_result"
    }
   ],
   "source": [
    "# duplicacao de string\n",
    "' curso '*10"
   ]
  },
  {
   "cell_type": "markdown",
   "metadata": {},
   "source": [
    "### Variáveis e Atribuição\n",
    "\n",
    "As **variáveis** fornecem uma forma de associar **nomes** com objetos. Pode ser usada qualquer palavra para determinar uma variriável com exeção das palavras reservadas da linguagem, tipo *for*, *else*, *int*, *float*, etc."
   ]
  },
  {
   "cell_type": "code",
   "execution_count": 14,
   "metadata": {},
   "outputs": [
    {
     "name": "stdout",
     "output_type": "stream",
     "text": [
      "area de X:> 50.24\n"
     ]
    }
   ],
   "source": [
    "# exemplo de variavel (nome), atribuicao (=) e valor da atribuição\n",
    "# documentar\n",
    "pi = 3.14   # pi\n",
    "r = 4\n",
    "# --documentar\n",
    "area = pi*(r**2)  # r**2\n",
    "#area\n",
    "print('area de X:>',area)  # imprime valor final\n",
    "#\n"
   ]
  },
  {
   "cell_type": "code",
   "execution_count": 10,
   "metadata": {},
   "outputs": [
    {
     "data": {
      "text/plain": [
       "50.24"
      ]
     },
     "execution_count": 10,
     "metadata": {},
     "output_type": "execute_result"
    }
   ],
   "source": [
    "area"
   ]
  },
  {
   "cell_type": "code",
   "execution_count": 15,
   "metadata": {},
   "outputs": [
    {
     "name": "stdout",
     "output_type": "stream",
     "text": [
      "x= [1, 2, 3, 4, 5]\n"
     ]
    }
   ],
   "source": [
    "x = [1,2,3,4,5]\n",
    "#x\n",
    "print('x=',x)"
   ]
  },
  {
   "cell_type": "code",
   "execution_count": 17,
   "metadata": {},
   "outputs": [
    {
     "data": {
      "text/plain": [
       "['a', 2, 'aqui', 40, 'calor', 1.0]"
      ]
     },
     "execution_count": 17,
     "metadata": {},
     "output_type": "execute_result"
    }
   ],
   "source": [
    "x1 =['a',2,'aqui',40,'calor',1.0]\n",
    "x1"
   ]
  },
  {
   "cell_type": "code",
   "execution_count": null,
   "metadata": {},
   "outputs": [],
   "source": [
    "x1[2]"
   ]
  },
  {
   "cell_type": "code",
   "execution_count": 18,
   "metadata": {},
   "outputs": [
    {
     "name": "stdout",
     "output_type": "stream",
     "text": [
      "False\n"
     ]
    }
   ],
   "source": [
    "# atribuicao de valores boolianos\n",
    "a = 4\n",
    "b = False  # b= True\n",
    "r= a and b\n",
    "print(r)"
   ]
  },
  {
   "cell_type": "markdown",
   "metadata": {},
   "source": [
    "### Visualização de variáveis"
   ]
  },
  {
   "cell_type": "code",
   "execution_count": 19,
   "metadata": {},
   "outputs": [
    {
     "data": {
      "text/plain": [
       "'Rio de Janeiro é considerada a Cidade Maravilhosa'"
      ]
     },
     "execution_count": 19,
     "metadata": {},
     "output_type": "execute_result"
    }
   ],
   "source": [
    "# visualizacao de variaveis\n",
    "nome = 'Rio de Janeiro é considerada a Cidade Maravilhosa'\n",
    "# visualizar - 1: nome da variavel\n",
    "nome"
   ]
  },
  {
   "cell_type": "code",
   "execution_count": 20,
   "metadata": {},
   "outputs": [
    {
     "name": "stdout",
     "output_type": "stream",
     "text": [
      "Rio de Janeiro é considerada a Cidade Maravilhosa\n"
     ]
    }
   ],
   "source": [
    "# visualizar - 2: usando o comando print()\n",
    "print(nome)"
   ]
  },
  {
   "cell_type": "code",
   "execution_count": null,
   "metadata": {},
   "outputs": [],
   "source": [
    "# visualizar - 3: usaando comando print()\n",
    "print('Um fato:',nome)"
   ]
  },
  {
   "cell_type": "code",
   "execution_count": 21,
   "metadata": {},
   "outputs": [
    {
     "name": "stdout",
     "output_type": "stream",
     "text": [
      "Rio de Janeiro é considerada a Cidade Maravilhosa  ...  sengundo a Revista Fofoca\n"
     ]
    }
   ],
   "source": [
    "#visualizacao - 4: usando o comando print()\n",
    "print(nome,' ...',' sengundo a Revista Fofoca')"
   ]
  },
  {
   "cell_type": "markdown",
   "metadata": {},
   "source": [
    "### Tipos de Dados\n",
    "Um **tipo** de dato é um conjuntos de valores e operações que podem ser realizados com esses valores."
   ]
  },
  {
   "cell_type": "markdown",
   "metadata": {},
   "source": [
    "**Tipos numéricos**"
   ]
  },
  {
   "cell_type": "markdown",
   "metadata": {},
   "source": [
    "- **Inteiro**: *int*"
   ]
  },
  {
   "cell_type": "code",
   "execution_count": 22,
   "metadata": {},
   "outputs": [
    {
     "data": {
      "text/plain": [
       "4"
      ]
     },
     "execution_count": 22,
     "metadata": {},
     "output_type": "execute_result"
    }
   ],
   "source": [
    "# exemplo de int\n",
    "n_i = 4\n",
    "n_i"
   ]
  },
  {
   "cell_type": "code",
   "execution_count": 23,
   "metadata": {},
   "outputs": [
    {
     "data": {
      "text/plain": [
       "int"
      ]
     },
     "execution_count": 23,
     "metadata": {},
     "output_type": "execute_result"
    }
   ],
   "source": [
    "# visualizar o tipo de dado\n",
    "type(n_i)"
   ]
  },
  {
   "cell_type": "markdown",
   "metadata": {},
   "source": [
    "- **Real**:*float*"
   ]
  },
  {
   "cell_type": "code",
   "execution_count": 24,
   "metadata": {},
   "outputs": [
    {
     "data": {
      "text/plain": [
       "3.9"
      ]
     },
     "execution_count": 24,
     "metadata": {},
     "output_type": "execute_result"
    }
   ],
   "source": [
    "# exemplo de float\n",
    "f = 3.9\n",
    "f"
   ]
  },
  {
   "cell_type": "code",
   "execution_count": null,
   "metadata": {},
   "outputs": [],
   "source": [
    "# visualizar o tipo de dados"
   ]
  },
  {
   "cell_type": "code",
   "execution_count": 25,
   "metadata": {},
   "outputs": [
    {
     "data": {
      "text/plain": [
       "float"
      ]
     },
     "execution_count": 25,
     "metadata": {},
     "output_type": "execute_result"
    }
   ],
   "source": [
    "type(f)"
   ]
  },
  {
   "cell_type": "markdown",
   "metadata": {},
   "source": [
    "- **Complexo**: *complex*"
   ]
  },
  {
   "cell_type": "code",
   "execution_count": null,
   "metadata": {},
   "outputs": [],
   "source": [
    "# exemplo de numero complexo\n",
    "nc1 = 3+4j\n",
    "nc1"
   ]
  },
  {
   "cell_type": "code",
   "execution_count": null,
   "metadata": {},
   "outputs": [],
   "source": [
    "type(nc1)"
   ]
  },
  {
   "cell_type": "markdown",
   "metadata": {},
   "source": [
    "#### Strings\n",
    "\n",
    "Uma **string** é uma sequência de caracteres fechados entre aspas simples ou duplas."
   ]
  },
  {
   "cell_type": "code",
   "execution_count": 26,
   "metadata": {},
   "outputs": [
    {
     "name": "stdout",
     "output_type": "stream",
     "text": [
      "Rio de Janeiro\n",
      "Niterói\n"
     ]
    }
   ],
   "source": [
    "# exemplo de string\n",
    "cidade1 = 'Rio de Janeiro'\n",
    "cidade2 = \"Niterói\"\n",
    "print(cidade1)\n",
    "print(cidade2)"
   ]
  },
  {
   "cell_type": "code",
   "execution_count": 27,
   "metadata": {},
   "outputs": [
    {
     "name": "stdout",
     "output_type": "stream",
     "text": [
      "Rio de Janeiro Niterói\n"
     ]
    }
   ],
   "source": [
    "# outra forma de apresentar?\n",
    "print(cidade1+' '+cidade2)"
   ]
  },
  {
   "cell_type": "markdown",
   "metadata": {},
   "source": [
    "- **função**: **str(objeto)** - retorna um objeto de tipo *string*"
   ]
  },
  {
   "cell_type": "code",
   "execution_count": 28,
   "metadata": {},
   "outputs": [
    {
     "data": {
      "text/plain": [
       "'10'"
      ]
     },
     "execution_count": 28,
     "metadata": {},
     "output_type": "execute_result"
    }
   ],
   "source": [
    "# exemplo de uso de str() - numero2string\n",
    "str(10)"
   ]
  },
  {
   "cell_type": "code",
   "execution_count": 30,
   "metadata": {
    "scrolled": true
   },
   "outputs": [
    {
     "data": {
      "text/plain": [
       "str"
      ]
     },
     "execution_count": 30,
     "metadata": {},
     "output_type": "execute_result"
    }
   ],
   "source": [
    "# exemplo de criacao de str()\n",
    "string_vazia = str()\n",
    "type(string_vazia)"
   ]
  },
  {
   "cell_type": "markdown",
   "metadata": {},
   "source": [
    "#### Operações Básicas com Strings"
   ]
  },
  {
   "cell_type": "markdown",
   "metadata": {},
   "source": [
    "- **Concatenação de strings**:**+**"
   ]
  },
  {
   "cell_type": "code",
   "execution_count": 31,
   "metadata": {},
   "outputs": [
    {
     "name": "stdout",
     "output_type": "stream",
     "text": [
      "Rio de JaneiroNiterói\n"
     ]
    }
   ],
   "source": [
    "# exemplo de concatenacao\n",
    "print(cidade1+cidade2)"
   ]
  },
  {
   "cell_type": "code",
   "execution_count": 32,
   "metadata": {},
   "outputs": [
    {
     "name": "stdout",
     "output_type": "stream",
     "text": [
      " .. Rio de Janeiro   Niterói\n"
     ]
    }
   ],
   "source": [
    "# outra forma?\n",
    "print(' ..',cidade1,' ',cidade2)"
   ]
  },
  {
   "cell_type": "code",
   "execution_count": 33,
   "metadata": {},
   "outputs": [
    {
     "data": {
      "text/plain": [
       "str"
      ]
     },
     "execution_count": 33,
     "metadata": {},
     "output_type": "execute_result"
    }
   ],
   "source": [
    "# tipo ?\n",
    "type(cidade1)"
   ]
  },
  {
   "cell_type": "markdown",
   "metadata": {},
   "source": [
    "- **Sequências repetidas de string**: \\*"
   ]
  },
  {
   "cell_type": "code",
   "execution_count": 34,
   "metadata": {},
   "outputs": [
    {
     "data": {
      "text/plain": [
       "'Rio de JaneiroRio de JaneiroRio de Janeiro-50'"
      ]
     },
     "execution_count": 34,
     "metadata": {},
     "output_type": "execute_result"
    }
   ],
   "source": [
    "tres_vezes = cidade1*3 + '-'+str(50)\n",
    "tres_vezes"
   ]
  },
  {
   "cell_type": "markdown",
   "metadata": {},
   "source": [
    "- Verificar a existência de uma string em outras string. Retorna **True** ou **False**"
   ]
  },
  {
   "cell_type": "code",
   "execution_count": 35,
   "metadata": {},
   "outputs": [],
   "source": [
    "# exemplo\n",
    "s1 = 'O coronavírus esta solto na cidade do Rio de Janeiro'\n",
    "s2 = 'cidade'"
   ]
  },
  {
   "cell_type": "code",
   "execution_count": 36,
   "metadata": {},
   "outputs": [
    {
     "name": "stdout",
     "output_type": "stream",
     "text": [
      "False\n"
     ]
    }
   ],
   "source": [
    "# exemplo\n",
    "s3='Araruama'\n",
    "r1 = s2 in s1\n",
    "r2 = s3 in s1\n",
    "print(r2)"
   ]
  },
  {
   "cell_type": "code",
   "execution_count": 37,
   "metadata": {},
   "outputs": [
    {
     "name": "stdout",
     "output_type": "stream",
     "text": [
      "False\n"
     ]
    }
   ],
   "source": [
    "print(s3 in s1)"
   ]
  },
  {
   "cell_type": "code",
   "execution_count": 38,
   "metadata": {},
   "outputs": [
    {
     "data": {
      "text/plain": [
       "False"
      ]
     },
     "execution_count": 38,
     "metadata": {},
     "output_type": "execute_result"
    }
   ],
   "source": [
    "# exemplo\n",
    "r2 = s2 not in s1\n",
    "r2"
   ]
  },
  {
   "cell_type": "markdown",
   "metadata": {},
   "source": [
    "- Comparação de **strings**: <, >, >=, <=, ==, !="
   ]
  },
  {
   "cell_type": "code",
   "execution_count": 39,
   "metadata": {},
   "outputs": [
    {
     "name": "stdout",
     "output_type": "stream",
     "text": [
      "False\n"
     ]
    }
   ],
   "source": [
    "# exemplo de comparacao\n",
    "print(s1 == s2)\n",
    "#print(s1 > s2) # why?"
   ]
  },
  {
   "cell_type": "markdown",
   "metadata": {},
   "source": [
    "- **Funções de strings**: *len()*,*max()*,*min()* "
   ]
  },
  {
   "cell_type": "code",
   "execution_count": 41,
   "metadata": {},
   "outputs": [
    {
     "data": {
      "text/plain": [
       "52"
      ]
     },
     "execution_count": 41,
     "metadata": {},
     "output_type": "execute_result"
    }
   ],
   "source": [
    "# tamanho da string\n",
    "l1 = len(s1)\n",
    "l1"
   ]
  },
  {
   "cell_type": "code",
   "execution_count": 42,
   "metadata": {},
   "outputs": [
    {
     "data": {
      "text/plain": [
       "'í'"
      ]
     },
     "execution_count": 42,
     "metadata": {},
     "output_type": "execute_result"
    }
   ],
   "source": [
    "# max()\n",
    "mx = max(s1)\n",
    "mx"
   ]
  },
  {
   "cell_type": "code",
   "execution_count": 43,
   "metadata": {},
   "outputs": [
    {
     "data": {
      "text/plain": [
       "' '"
      ]
     },
     "execution_count": 43,
     "metadata": {},
     "output_type": "execute_result"
    }
   ],
   "source": [
    "# min()\n",
    "mi = min(s1)\n",
    "mi"
   ]
  },
  {
   "cell_type": "markdown",
   "metadata": {},
   "source": [
    "- **Índices** - indica a posição de um caracter na string"
   ]
  },
  {
   "cell_type": "code",
   "execution_count": 48,
   "metadata": {},
   "outputs": [
    {
     "data": {
      "text/plain": [
       "'r'"
      ]
     },
     "execution_count": 48,
     "metadata": {},
     "output_type": "execute_result"
    }
   ],
   "source": [
    "# exemplo do tamanho de uma string\n",
    "tam = len(s1)\n",
    "p0 = s1[10]\n",
    "p0"
   ]
  },
  {
   "cell_type": "markdown",
   "metadata": {},
   "source": [
    "## Listas"
   ]
  },
  {
   "cell_type": "markdown",
   "metadata": {},
   "source": [
    "Uma **lista** é uma sequência de zero ou mais objetos. Usa-se os \"[]\" para indicar uma lista."
   ]
  },
  {
   "cell_type": "markdown",
   "metadata": {},
   "source": [
    "### Operadores de Listas"
   ]
  },
  {
   "cell_type": "code",
   "execution_count": 49,
   "metadata": {
    "scrolled": true
   },
   "outputs": [
    {
     "name": "stdout",
     "output_type": "stream",
     "text": [
      "[1, 4, 'oi', 'Teste']\n",
      "[10, 'a', (4-5j), 3.1]\n",
      "4\n",
      "3.1\n"
     ]
    }
   ],
   "source": [
    "# exemplo de lista\n",
    "lista = [1,4,\"oi\",'Teste']\n",
    "print(lista)\n",
    "lista0 = [10, 'a',4-5j,3.1]\n",
    "print(lista0)\n",
    "print(len(lista0))\n",
    "print(lista0[3])"
   ]
  },
  {
   "cell_type": "markdown",
   "metadata": {},
   "source": [
    "| Operador | ação |\n",
    "|:----------|:-------------|\n",
    "| []        | lista vazia |\n",
    "|append()   | adiciona elementos|\n",
    "| sort()    | ordena os elementos |\n",
    "| insert()  | insere elementos|\n",
    "| pop()     | elimina o último elemento |\n",
    "| remove()  | remove um elemento |"
   ]
  },
  {
   "cell_type": "code",
   "execution_count": 50,
   "metadata": {},
   "outputs": [
    {
     "name": "stdout",
     "output_type": "stream",
     "text": [
      "Lista vazia L: []\n",
      "append(34)-> L: [34]\n",
      "append(22)-> L: [34, 22]\n",
      "append(50)-> L: [34, 22, 50]\n",
      "append(-10)-> L: [34, 22, 50, -10]\n",
      "sort(L)-> L: [-10, 22, 34, 50]\n",
      "pop()-> L: [-10, 22, 34]\n",
      "insert(0,40)-> L: [40, -10, 22, 34]\n",
      "insert(1,55)-> L: [40, 55, -10, 22, 34]\n",
      "pop(1)-> L: [40, -10, 22, 34]\n",
      "remove(22)-> L: [40, -10, 34]\n",
      "O que acontece com os elementos da lista L?\n"
     ]
    },
    {
     "ename": "ValueError",
     "evalue": "list.remove(x): x not in list",
     "output_type": "error",
     "traceback": [
      "\u001b[1;31m---------------------------------------------------------------------------\u001b[0m",
      "\u001b[1;31mValueError\u001b[0m                                Traceback (most recent call last)",
      "Input \u001b[1;32mIn [50]\u001b[0m, in \u001b[0;36m<cell line: 25>\u001b[1;34m()\u001b[0m\n\u001b[0;32m     23\u001b[0m \u001b[38;5;28mprint\u001b[39m(\u001b[38;5;124m'\u001b[39m\u001b[38;5;124mremove(22)-> L:\u001b[39m\u001b[38;5;124m'\u001b[39m,Lista)\n\u001b[0;32m     24\u001b[0m \u001b[38;5;28mprint\u001b[39m(\u001b[38;5;124m'\u001b[39m\u001b[38;5;124mO que acontece com os elementos da lista L?\u001b[39m\u001b[38;5;124m'\u001b[39m)\n\u001b[1;32m---> 25\u001b[0m \u001b[43mLista\u001b[49m\u001b[38;5;241;43m.\u001b[39;49m\u001b[43mremove\u001b[49m\u001b[43m(\u001b[49m\u001b[38;5;241;43m55\u001b[39;49m\u001b[43m)\u001b[49m \u001b[38;5;66;03m#\u001b[39;00m\n\u001b[0;32m     26\u001b[0m \u001b[38;5;28mprint\u001b[39m(\u001b[38;5;124m'\u001b[39m\u001b[38;5;124mremove(55)-> L:\u001b[39m\u001b[38;5;124m'\u001b[39m,Lista)\n",
      "\u001b[1;31mValueError\u001b[0m: list.remove(x): x not in list"
     ]
    }
   ],
   "source": [
    "# exemplo de listas\n",
    "Lista = []\n",
    "print('Lista vazia L:',Lista)\n",
    "Lista.append(34)\n",
    "print('append(34)-> L:',Lista)\n",
    "Lista.append(22)\n",
    "print('append(22)-> L:',Lista)\n",
    "Lista.append(50)\n",
    "print('append(50)-> L:',Lista)\n",
    "Lista.append(-10)\n",
    "print('append(-10)-> L:',Lista)\n",
    "Lista.sort()\n",
    "print('sort(L)-> L:',Lista)\n",
    "Lista.pop()\n",
    "print('pop()-> L:',Lista)\n",
    "Lista.insert(0, 40)\n",
    "print('insert(0,40)-> L:',Lista)\n",
    "Lista.insert(1, 55) \n",
    "print('insert(1,55)-> L:',Lista)\n",
    "Lista.pop(1)\n",
    "print('pop(1)-> L:',Lista)\n",
    "Lista.remove(22)\n",
    "print('remove(22)-> L:',Lista)\n",
    "print('O que acontece com os elementos da lista L?')\n",
    "Lista.remove(55) #\n",
    "print('remove(55)-> L:',Lista)"
   ]
  },
  {
   "cell_type": "code",
   "execution_count": 51,
   "metadata": {},
   "outputs": [
    {
     "name": "stdout",
     "output_type": "stream",
     "text": [
      "['Rio', 'de', 'Janeiro', 'está', 'em', 'lockdown', 'por', 'causa', 'da', 'pandemia', 'COVID-19']\n"
     ]
    }
   ],
   "source": [
    "# split(): converte uma string em lista\n",
    "s = 'Rio de Janeiro está em lockdown por causa da pandemia COVID-19'\n",
    "r = s.split()\n",
    "print(r)"
   ]
  },
  {
   "cell_type": "code",
   "execution_count": 52,
   "metadata": {},
   "outputs": [
    {
     "name": "stdout",
     "output_type": "stream",
     "text": [
      "Elemento na posição 6:>  lockdown\n"
     ]
    }
   ],
   "source": [
    "# acesar elementos da lista usando o indice\n",
    "elemento = r[5]\n",
    "print('Elemento na posição 6:> ',elemento)"
   ]
  },
  {
   "cell_type": "code",
   "execution_count": 53,
   "metadata": {},
   "outputs": [
    {
     "name": "stdout",
     "output_type": "stream",
     "text": [
      "ns: Rio de Janeiro está em lockdown por causa da pandemia COVID-19\n"
     ]
    }
   ],
   "source": [
    "# join(): Converte uma lista em string\n",
    "ns =\" \".join(r)\n",
    "print('ns:',ns)\n"
   ]
  },
  {
   "cell_type": "markdown",
   "metadata": {},
   "source": [
    "### Indexação e Fatiamento de listas"
   ]
  },
  {
   "cell_type": "code",
   "execution_count": 54,
   "metadata": {},
   "outputs": [
    {
     "name": "stdout",
     "output_type": "stream",
     "text": [
      "Indexação de uma Lista\n",
      "  texto-0:> Python\n",
      "  texto-4:> introdutório\n"
     ]
    }
   ],
   "source": [
    "# list index\n",
    "print('Indexação de uma Lista')\n",
    "#print('')\n",
    "texto =['Python','para','Data Science','curso','introdutório']\n",
    "t0 = texto[0]\n",
    "t4 = texto[4]\n",
    "print('  texto-0:>',t0)\n",
    "print('  texto-4:>',t4)"
   ]
  },
  {
   "cell_type": "code",
   "execution_count": 55,
   "metadata": {},
   "outputs": [
    {
     "name": "stdout",
     "output_type": "stream",
     "text": [
      "Elemento :> curso\n",
      "Posição do elemento :> 3\n"
     ]
    }
   ],
   "source": [
    "# posicao do elemento numa lista\n",
    "elemento = texto[3]\n",
    "print('Elemento :>',elemento)\n",
    "pos = texto.index(elemento)\n",
    "print('Posição do elemento :>',pos)"
   ]
  },
  {
   "cell_type": "code",
   "execution_count": 56,
   "metadata": {
    "scrolled": true
   },
   "outputs": [
    {
     "name": "stdout",
     "output_type": "stream",
     "text": [
      "Número de elemento :> 5\n"
     ]
    }
   ],
   "source": [
    "# numero de elementos de uma lista\n",
    "l = len(texto)\n",
    "print('Número de elemento :>',l)"
   ]
  },
  {
   "cell_type": "code",
   "execution_count": 57,
   "metadata": {},
   "outputs": [
    {
     "name": "stdout",
     "output_type": "stream",
     "text": [
      "Soma :> 174\n",
      "Máximo :> 45\n",
      "Mínimo :> 20\n"
     ]
    }
   ],
   "source": [
    "# sum(). max(); min()\n",
    "numeros = [23,25,28,45,33,20]\n",
    "s1 = sum(numeros)\n",
    "print('Soma :>',s1)\n",
    "print('Máximo :>',max(numeros))\n",
    "print('Mínimo :>',min(numeros))"
   ]
  },
  {
   "cell_type": "code",
   "execution_count": 59,
   "metadata": {},
   "outputs": [
    {
     "name": "stdout",
     "output_type": "stream",
     "text": [
      "A1:> False\n",
      "A2:> True\n",
      "A3:> False\n",
      "A4:> True\n"
     ]
    }
   ],
   "source": [
    "# any(): verifica se algum dos elementos de uma lista é TRUE (iterable)\n",
    "an1 = any([0,0,0,False,0])\n",
    "print('A1:>',an1)\n",
    "an2 = any([4,0,0,False,0])\n",
    "print('A2:>',an2)\n",
    "an3 = any([0,0,0,False,''])\n",
    "print('A3:>',an3)\n",
    "an4 = any([0,0,0,False,'Casa'])\n",
    "print('A4:>',an4)"
   ]
  },
  {
   "cell_type": "code",
   "execution_count": 60,
   "metadata": {},
   "outputs": [
    {
     "name": "stdout",
     "output_type": "stream",
     "text": [
      "AL1:> True\n",
      "AL2:> False\n",
      "AL3:> False\n",
      "AL4:> True\n"
     ]
    }
   ],
   "source": [
    "# all() - Retorna TRUE se todos os items de um objeto são \"iterable\" são TRUE\n",
    "al1 = all([1,1,1,1])\n",
    "print('AL1:>',al1)\n",
    "al2 = all([1,1,1,0])\n",
    "print('AL2:>',al2)\n",
    "al3 = all([1,1,1,''])\n",
    "print('AL3:>',al3)\n",
    "al4 = all([1,1,1,'J'])\n",
    "print('AL4:>',al4)"
   ]
  },
  {
   "cell_type": "code",
   "execution_count": 61,
   "metadata": {},
   "outputs": [
    {
     "name": "stdout",
     "output_type": "stream",
     "text": [
      "Lista ordenada :> [-1, 1, 2, 3, 4, 5]\n",
      "Lista ordenada :> [5, 4, 3, 2, 1, -1]\n"
     ]
    }
   ],
   "source": [
    "# ordena uma lista\n",
    "#L = ['Z','z','a','A']\n",
    "L = [5,3,2,-1,1,4]\n",
    "lo = sorted(L)\n",
    "print('Lista ordenada :>',lo) # menor -> maior\n",
    "lr = sorted(L, reverse=True) # maior -> menor\n",
    "print('Lista ordenada :>',lr)"
   ]
  },
  {
   "cell_type": "code",
   "execution_count": 62,
   "metadata": {},
   "outputs": [
    {
     "name": "stdout",
     "output_type": "stream",
     "text": [
      "T:> [' ', ',', '-', '1', '9', 'A', 'C', 'D', 'I', 'O', 'V', 'a', 'a', 'a', 'm', 'r', 'r', 'u']\n"
     ]
    }
   ],
   "source": [
    "# ordenando palavras\n",
    "texto = \"COVID-19, Araruama\"\n",
    "T = sorted(texto)\n",
    "print('T:>',T)"
   ]
  },
  {
   "cell_type": "code",
   "execution_count": 63,
   "metadata": {},
   "outputs": [
    {
     "name": "stdout",
     "output_type": "stream",
     "text": [
      "Ingressar o número de items:4\n",
      " Item da lista:> 3\n",
      " Item da lista:> 4\n",
      " Item da lista:> 44\n",
      " Item da lista:> \n",
      "Lista de items: ['3', '4', '44', '']\n",
      "\n",
      "Número de elementos da lista :>  4\n"
     ]
    }
   ],
   "source": [
    "# criar uma lista\n",
    "items_da_lista = []\n",
    "total_de_items = int(input(\"Ingressar o número de items:\"))\n",
    "for i in range(total_de_items):\n",
    "    item = input(\" Item da lista:> \")\n",
    "    items_da_lista.append(item)\n",
    "print(f\"Lista de items: {items_da_lista}\")\n",
    "print()\n",
    "print('Número de elementos da lista :> ',len(items_da_lista))"
   ]
  },
  {
   "cell_type": "code",
   "execution_count": 64,
   "metadata": {},
   "outputs": [
    {
     "name": "stdout",
     "output_type": "stream",
     "text": [
      "texto :> O transporte público está um caos\n",
      "txt:> ransporte público está um caos\n",
      "txt:> ransporte público\n"
     ]
    }
   ],
   "source": [
    "# fatiamento (slices) usando os indices\n",
    "txt =\"O transporte público está um caos\"\n",
    "print('texto :>',txt)\n",
    "txt1 = txt[3:]\n",
    "print('txt:>',txt1)\n",
    "txt2 = txt[3:20]\n",
    "print('txt:>',txt2)"
   ]
  },
  {
   "cell_type": "code",
   "execution_count": 65,
   "metadata": {},
   "outputs": [
    {
     "data": {
      "text/plain": [
       "'O tra'"
      ]
     },
     "execution_count": 65,
     "metadata": {},
     "output_type": "execute_result"
    }
   ],
   "source": [
    "# 5 valores iniciais\n",
    "txt5 = txt[:5]\n",
    "txt5"
   ]
  },
  {
   "cell_type": "code",
   "execution_count": 66,
   "metadata": {},
   "outputs": [
    {
     "data": {
      "text/plain": [
       "' público'"
      ]
     },
     "execution_count": 66,
     "metadata": {},
     "output_type": "execute_result"
    }
   ],
   "source": [
    "# valores \n",
    "txt4 = txt[12:20]\n",
    "txt4"
   ]
  },
  {
   "cell_type": "code",
   "execution_count": 67,
   "metadata": {},
   "outputs": [
    {
     "name": "stdout",
     "output_type": "stream",
     "text": [
      "Lista de valores :> [0, 10, 20, 30, 40, 50, 60, 70, 80]\n",
      "valores :>  [20, 40, 60]\n"
     ]
    }
   ],
   "source": [
    "# slice(inicio:fim,step)\n",
    "lv = [0, 10, 20, 30, 40, 50, 60, 70, 80]\n",
    "#\n",
    "print('Lista de valores :>',lv)\n",
    "sl = slice(2,8,2)\n",
    "print('valores :> ',lv[sl])"
   ]
  },
  {
   "cell_type": "code",
   "execution_count": 68,
   "metadata": {},
   "outputs": [
    {
     "name": "stdout",
     "output_type": "stream",
     "text": [
      "[10, 20, 30, 40, 50, 60, 70, 80]\n"
     ]
    }
   ],
   "source": [
    "# Eliminar um elemento\n",
    "del lv[0]\n",
    "print(lv)"
   ]
  },
  {
   "cell_type": "code",
   "execution_count": 69,
   "metadata": {},
   "outputs": [
    {
     "data": {
      "text/plain": [
       "80"
      ]
     },
     "execution_count": 69,
     "metadata": {},
     "output_type": "execute_result"
    }
   ],
   "source": [
    "# indice negativo\n",
    "t1 = lv[-1]\n",
    "t1"
   ]
  },
  {
   "cell_type": "code",
   "execution_count": 70,
   "metadata": {},
   "outputs": [
    {
     "data": {
      "text/plain": [
       "[10, 20, 30, 40, 50, 60, 70]"
      ]
     },
     "execution_count": 70,
     "metadata": {},
     "output_type": "execute_result"
    }
   ],
   "source": [
    "# indice negativo\n",
    "t2 = lv[:-1]\n",
    "t2"
   ]
  },
  {
   "cell_type": "markdown",
   "metadata": {},
   "source": [
    "## Dicionários\n",
    "Um **dicionário** tem zero ou mais entradas. A cada entrada tem associdada uma chave única e um valor **{key:valor}**"
   ]
  },
  {
   "cell_type": "markdown",
   "metadata": {},
   "source": [
    "- {} : dicionário vazio\n",
    "- {\"nome\":\"Jorge\"} : uma entrada\n",
    "- {\"nome\":\"Jorge\", \"Idade\":57} : duas entradas\n",
    "- {\"hobbies\":[\"Leitura\",\"viajar\"]} : uma entrada e o valor é uma lista"
   ]
  },
  {
   "cell_type": "code",
   "execution_count": 71,
   "metadata": {},
   "outputs": [
    {
     "name": "stdout",
     "output_type": "stream",
     "text": [
      "O terceiro mês é Março\n",
      "De Abril a Janeiro são 3 mêses de espaço \n"
     ]
    }
   ],
   "source": [
    "# exemplo de dicionario\n",
    "mesNumero = {'Janeiro':1, 'Fevereiro':2, 'Março':3, 'Abril':4, 'Maio':5, \n",
    "             1:'Janeiro', 2:'Fevereiro', 3:'Março', 4:'Abril', 5:'Maio'}\n",
    "#\n",
    "print('O terceiro mês é ' + mesNumero[3])\n",
    "distancia = mesNumero['Abril'] - mesNumero['Janeiro']\n",
    "print('De Abril a Janeiro são', distancia, 'mêses de espaço ')"
   ]
  },
  {
   "cell_type": "code",
   "execution_count": 72,
   "metadata": {},
   "outputs": [
    {
     "name": "stdout",
     "output_type": "stream",
     "text": [
      "Chaves:>  dict_keys(['Janeiro', 'Fevereiro', 'Março', 'Abril', 'Maio', 1, 2, 3, 4, 5])\n"
     ]
    }
   ],
   "source": [
    "# chaves do dicionario\n",
    "chaves = mesNumero.keys()\n",
    "print('Chaves:> ',chaves)"
   ]
  },
  {
   "cell_type": "code",
   "execution_count": 73,
   "metadata": {},
   "outputs": [
    {
     "name": "stdout",
     "output_type": "stream",
     "text": [
      "Valores:> dict_values([1, 2, 3, 4, 5, 'Janeiro', 'Fevereiro', 'Março', 'Abril', 'Maio'])\n"
     ]
    }
   ],
   "source": [
    "# valores do dicionario\n",
    "valores  = mesNumero.values()\n",
    "print('Valores:>',valores)"
   ]
  },
  {
   "cell_type": "code",
   "execution_count": 75,
   "metadata": {},
   "outputs": [
    {
     "name": "stdout",
     "output_type": "stream",
     "text": [
      "Resultado da consulta :> False\n"
     ]
    }
   ],
   "source": [
    "# verificar chaves\n",
    "key = 'três'\n",
    "res = key in chaves\n",
    "print('Resultado da consulta :>',res)"
   ]
  },
  {
   "cell_type": "code",
   "execution_count": 76,
   "metadata": {},
   "outputs": [
    {
     "name": "stdout",
     "output_type": "stream",
     "text": [
      "Resultado da consulta :> Fevereiro\n"
     ]
    }
   ],
   "source": [
    "# verificar valor do key = 2\n",
    "valor = mesNumero[2]\n",
    "print('Resultado da consulta :>',valor)"
   ]
  },
  {
   "cell_type": "code",
   "execution_count": 77,
   "metadata": {},
   "outputs": [
    {
     "name": "stdout",
     "output_type": "stream",
     "text": [
      "Chave:> Janeiro\n",
      "Chave:> Fevereiro\n",
      "Chave:> Março\n",
      "Chave:> Abril\n",
      "Chave:> Maio\n",
      "Chave:> 1\n",
      "Chave:> 2\n",
      "Chave:> 3\n",
      "Chave:> 4\n",
      "Chave:> 5\n"
     ]
    }
   ],
   "source": [
    "# iteracao sobre as chaves \n",
    "for key in mesNumero:\n",
    "    print('Chave:>',key)"
   ]
  },
  {
   "cell_type": "markdown",
   "metadata": {},
   "source": [
    "## Funções"
   ]
  },
  {
   "cell_type": "code",
   "execution_count": null,
   "metadata": {},
   "outputs": [],
   "source": [
    "# def nome_funcao (lista_de_parametros):\n",
    "#    <sequencia_de_expressoes>"
   ]
  },
  {
   "cell_type": "code",
   "execution_count": 79,
   "metadata": {},
   "outputs": [],
   "source": [
    "# exemplo de funcao\n",
    "def soma(a,b):\n",
    "    return a+b"
   ]
  },
  {
   "cell_type": "code",
   "execution_count": 81,
   "metadata": {},
   "outputs": [
    {
     "name": "stdout",
     "output_type": "stream",
     "text": [
      "Soma:> 2007\n"
     ]
    }
   ],
   "source": [
    "# uso da funcao\n",
    "so = soma(7,2000)\n",
    "print('Soma:>',so)"
   ]
  },
  {
   "cell_type": "code",
   "execution_count": 82,
   "metadata": {},
   "outputs": [
    {
     "name": "stdout",
     "output_type": "stream",
     "text": [
      "Valor :> falso\n"
     ]
    }
   ],
   "source": [
    "def valorx(a):\n",
    "    if a > 3:\n",
    "        x='verdade'\n",
    "    x='falso'\n",
    "    return x\n",
    "#\n",
    "t = valorx(23) # chama a funcao\n",
    "#\n",
    "print('Valor :>',t)"
   ]
  },
  {
   "cell_type": "markdown",
   "metadata": {},
   "source": [
    "## Exercícios\n",
    "Prática dos conteúdos estudados: construindo e operando listas e strings"
   ]
  },
  {
   "cell_type": "markdown",
   "metadata": {},
   "source": [
    "1. Seja x='cachorro' e y='gato'. Quais são os valores retornados pelas operações:\n",
    "    - x + y\n",
    "    - \"O\" + x + \"não gosta de \" + y\n",
    "    - x*6"
   ]
  },
  {
   "cell_type": "markdown",
   "metadata": {},
   "source": [
    "2. Escreva uma string que contenha nome, endereço, bairro e cidade:\n",
    "    - Em linhas diferentes\n",
    "    - Na mesma linha"
   ]
  },
  {
   "cell_type": "markdown",
   "metadata": {},
   "source": [
    "3. Quais das seguintes variáveis são nomes válidos?\n",
    "    - a) length\n",
    "    - b) _width\n",
    "    - c) firstBase\n",
    "    - d) 2MaisDois\n",
    "    - e) halt!"
   ]
  },
  {
   "cell_type": "markdown",
   "metadata": {},
   "source": [
    "4. Que tipo de dados seria mais apropriado para representar os seguintes valores?\n",
    "    - o número de meses de um ano\n",
    "    - a área de um círculo\n",
    "    - o salário mínimo atual\n",
    "    - a idade do universo\n",
    "    - seu nome"
   ]
  },
  {
   "cell_type": "markdown",
   "metadata": {},
   "source": [
    "5. Seja x = 4 e y = 0.5. Escrever os valores das seguintes expressões:\n",
    "    - a) x + y * 3\n",
    "    - b) (x + y) * 3\n",
    "    - c) x ** y\n",
    "    - d) x % y\n",
    "    - e) x / 12.0\n",
    "    - f) x / 6"
   ]
  },
  {
   "cell_type": "markdown",
   "metadata": {},
   "source": [
    "6. Seja x = 5.33. Escrever os valores das seguintes expressões:\n",
    "    - a) round(x)\n",
    "    - b) int(x)\n",
    "    \n",
    " Têm alguma diferença?"
   ]
  },
  {
   "cell_type": "markdown",
   "metadata": {},
   "source": [
    "7. Se pode concatenar um valor numérico e uma string?. Apresente exemplos."
   ]
  },
  {
   "cell_type": "markdown",
   "metadata": {},
   "source": [
    "8. Definir funções para as operações matemáticas básicas. "
   ]
  },
  {
   "cell_type": "markdown",
   "metadata": {},
   "source": [
    "---\n",
    "#### &copy; Copyright 2021,2022, Sergio Serra & Jorge Zavaleta"
   ]
  }
 ],
 "metadata": {
  "kernelspec": {
   "display_name": "Python 3 (ipykernel)",
   "language": "python",
   "name": "python3"
  },
  "language_info": {
   "codemirror_mode": {
    "name": "ipython",
    "version": 3
   },
   "file_extension": ".py",
   "mimetype": "text/x-python",
   "name": "python",
   "nbconvert_exporter": "python",
   "pygments_lexer": "ipython3",
   "version": "3.9.12"
  }
 },
 "nbformat": 4,
 "nbformat_minor": 4
}
